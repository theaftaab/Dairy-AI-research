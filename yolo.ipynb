{
  "nbformat": 4,
  "nbformat_minor": 0,
  "metadata": {
    "colab": {
      "provenance": []
    },
    "kernelspec": {
      "name": "python3",
      "display_name": "Python 3"
    },
    "language_info": {
      "name": "python"
    }
  },
  "cells": [
    {
      "cell_type": "code",
      "execution_count": null,
      "metadata": {
        "id": "qbTm8-gf0epp"
      },
      "outputs": [],
      "source": [
        "%%capture\n",
        "!pip install roboflow ultralytics"
      ]
    },
    {
      "cell_type": "code",
      "source": [
        "from ultralytics import YOLO\n",
        "\n",
        "model = YOLO('Yolov8n.pt')\n",
        "results = model.train(data=\"data.yaml\", epochs=50)"
      ],
      "metadata": {
        "id": "ZSSq6Knm0i1b"
      },
      "execution_count": null,
      "outputs": []
    },
    {
      "cell_type": "code",
      "source": [
        "model = YOLO(\"best.pt\")\n",
        "\n",
        "metrics = model.val()\n",
        "metrics.box.map\n",
        "metrics.box.map50\n",
        "metrics.box.map75\n",
        "metrics.box.maps"
      ],
      "metadata": {
        "id": "yuaudhep1MmD"
      },
      "execution_count": null,
      "outputs": []
    }
  ]
}