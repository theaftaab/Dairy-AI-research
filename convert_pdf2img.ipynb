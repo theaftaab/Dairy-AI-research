{
 "cells": [
  {
   "cell_type": "code",
   "id": "initial_id",
   "metadata": {
    "collapsed": true,
    "ExecuteTime": {
     "end_time": "2024-07-19T11:45:13.664963Z",
     "start_time": "2024-07-19T11:45:13.636690Z"
    }
   },
   "source": [
    "import os\n",
    "from pdf2image import convert_from_path"
   ],
   "outputs": [],
   "execution_count": 1
  },
  {
   "metadata": {
    "ExecuteTime": {
     "end_time": "2024-07-19T11:48:06.502718Z",
     "start_time": "2024-07-19T11:48:06.498446Z"
    }
   },
   "cell_type": "code",
   "source": [
    "batch_pdf_dir = \"batch4_pdfs\"\n",
    "batch_img_dir= \"batch4_imgs\""
   ],
   "id": "8f8e3c8c04eeb83b",
   "outputs": [],
   "execution_count": 3
  },
  {
   "metadata": {},
   "cell_type": "code",
   "outputs": [],
   "execution_count": null,
   "source": [
    "def convert_pdf_to_img(pdf_dir, img_dir) -> None:\n",
    "    \"\"\"Converts PDF files to JPEG images.\n",
    "        Args:\n",
    "            pdf_dir(str): Directory container pdf files.\n",
    "            img_dir(str): Directory container image files.\n",
    "    \"\"\"\n",
    "    if not os.path.exists(img_dir):\n",
    "        os.makedirs(img_dir)\n",
    "        \n",
    "    for pdf_file in os.listdir(pdf_dir):\n",
    "        if pdf_file.endswith(\".pdf\"):\n",
    "            print(\"Converting pdf file: {}\".format(pdf_file))\n",
    "            pdf_path = os.path.join(pdf_dir, pdf_file)\n",
    "            pages = convert_from_path(pdf_path, 300)\n",
    "            \n",
    "            for i, page in enumerate(pages):\n",
    "                img_path = os.path.join(img_dir, f\"{pdf_file[:4]}page{i+1}.jpg\")\n",
    "                page.save(img_path, 'JPEG')"
   ],
   "id": "77ff9f1ce37f7ff0"
  },
  {
   "metadata": {},
   "cell_type": "code",
   "outputs": [],
   "execution_count": null,
   "source": "convert_pdf_to_img(batch_pdf_dir, batch_img_dir)",
   "id": "33444da32c997448"
  }
 ],
 "metadata": {
  "kernelspec": {
   "display_name": "Python 3",
   "language": "python",
   "name": "python3"
  },
  "language_info": {
   "codemirror_mode": {
    "name": "ipython",
    "version": 2
   },
   "file_extension": ".py",
   "mimetype": "text/x-python",
   "name": "python",
   "nbconvert_exporter": "python",
   "pygments_lexer": "ipython2",
   "version": "2.7.6"
  }
 },
 "nbformat": 4,
 "nbformat_minor": 5
}
