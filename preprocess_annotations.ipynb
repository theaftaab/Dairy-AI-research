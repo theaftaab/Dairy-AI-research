{
 "cells": [
  {
   "cell_type": "code",
   "id": "initial_id",
   "metadata": {
    "collapsed": true,
    "ExecuteTime": {
     "end_time": "2024-07-20T06:36:53.057905Z",
     "start_time": "2024-07-20T06:36:53.052224Z"
    }
   },
   "source": [
    "import os\n",
    "import shutil\n",
    "import json"
   ],
   "outputs": [],
   "execution_count": 1
  },
  {
   "metadata": {
    "ExecuteTime": {
     "end_time": "2024-07-20T06:37:09.034155Z",
     "start_time": "2024-07-20T06:37:09.031672Z"
    }
   },
   "cell_type": "code",
   "source": [
    "TRAIN_DIR = \"data/rflow_data/train/\"\n",
    "TRAIN_ANNOTS = \"data/rflow_data/train/_annotations.coco.json\"\n",
    "SORTED_DIR = \"data/RF_sorted_data/\""
   ],
   "id": "49cf73d0f527a8ad",
   "outputs": [],
   "execution_count": 2
  },
  {
   "metadata": {
    "ExecuteTime": {
     "end_time": "2024-07-20T06:37:09.886009Z",
     "start_time": "2024-07-20T06:37:09.882138Z"
    }
   },
   "cell_type": "code",
   "source": "len(os.listdir(TRAIN_DIR))",
   "id": "675b50cab80206ad",
   "outputs": [
    {
     "data": {
      "text/plain": [
       "80"
      ]
     },
     "execution_count": 3,
     "metadata": {},
     "output_type": "execute_result"
    }
   ],
   "execution_count": 3
  },
  {
   "metadata": {
    "ExecuteTime": {
     "end_time": "2024-07-20T06:37:13.931653Z",
     "start_time": "2024-07-20T06:37:13.929468Z"
    }
   },
   "cell_type": "code",
   "source": [
    "def read_json(file) -> dict:\n",
    "    \"\"\"\n",
    "    Reads json file and returns python dictionary.\n",
    "        Args: \n",
    "            file(str): path to json file.\n",
    "    \"\"\"\n",
    "    with open(file, 'r') as f:\n",
    "        data = json.load(f)\n",
    "    return data"
   ],
   "id": "a113b53d3ea085ed",
   "outputs": [],
   "execution_count": 4
  },
  {
   "metadata": {
    "ExecuteTime": {
     "end_time": "2024-07-20T06:37:14.482041Z",
     "start_time": "2024-07-20T06:37:14.478025Z"
    }
   },
   "cell_type": "code",
   "source": [
    "rflow_annots = read_json(TRAIN_ANNOTS)\n",
    "rflow_annots.keys()"
   ],
   "id": "7e7e6ab745c5002",
   "outputs": [
    {
     "data": {
      "text/plain": [
       "dict_keys(['info', 'licenses', 'categories', 'images', 'annotations'])"
      ]
     },
     "execution_count": 5,
     "metadata": {},
     "output_type": "execute_result"
    }
   ],
   "execution_count": 5
  },
  {
   "metadata": {
    "ExecuteTime": {
     "end_time": "2024-07-20T06:37:15.514320Z",
     "start_time": "2024-07-20T06:37:15.511074Z"
    }
   },
   "cell_type": "code",
   "source": [
    "num_cats = len(rflow_annots['categories'])\n",
    "num_imgs = len(rflow_annots['images'])\n",
    "num_annots = len(rflow_annots['annotations'])\n",
    "num_cats, num_imgs, num_annots"
   ],
   "id": "af66a753db965c18",
   "outputs": [
    {
     "data": {
      "text/plain": [
       "(49, 79, 610)"
      ]
     },
     "execution_count": 6,
     "metadata": {},
     "output_type": "execute_result"
    }
   ],
   "execution_count": 6
  },
  {
   "metadata": {
    "ExecuteTime": {
     "end_time": "2024-07-20T06:37:18.280640Z",
     "start_time": "2024-07-20T06:37:18.277577Z"
    }
   },
   "cell_type": "code",
   "source": [
    "def sep_annots_by_category(annots) -> dict:\n",
    "    \"\"\"\n",
    "    Segregates annotation data by category. Returns a python dictionary with key value pairs indicating category-id : annotation.\n",
    "        Args:\n",
    "            annots(dict): Python dictionary containing annotation data to be segregated.\n",
    "    \"\"\"\n",
    "    categories = {}\n",
    "    \n",
    "    for annotation in annots['annotations']:\n",
    "        category_id = annotation['category_id']\n",
    "        \n",
    "        if category_id not in categories:\n",
    "            categories[category_id] = []\n",
    "        \n",
    "        categories[category_id].append(annotation)\n",
    "    return categories"
   ],
   "id": "c816f8fa583730cb",
   "outputs": [],
   "execution_count": 7
  },
  {
   "metadata": {
    "ExecuteTime": {
     "end_time": "2024-07-20T06:37:18.796176Z",
     "start_time": "2024-07-20T06:37:18.793156Z"
    }
   },
   "cell_type": "code",
   "source": [
    "data_by_cat = sep_annots_by_category(rflow_annots)\n",
    "data_by_cat.keys()"
   ],
   "id": "5f8cd0d631a1b834",
   "outputs": [
    {
     "data": {
      "text/plain": [
       "dict_keys([32, 18, 25, 27, 7, 23, 30, 45, 21, 29, 19, 28, 31, 44, 40, 17, 15, 47, 33, 4, 39, 37, 3, 38, 10, 8, 41, 36, 43, 11, 13, 24, 34, 20, 35, 2, 6, 22, 5, 42, 46, 12, 9, 16, 14, 26, 1, 48])"
      ]
     },
     "execution_count": 8,
     "metadata": {},
     "output_type": "execute_result"
    }
   ],
   "execution_count": 8
  },
  {
   "metadata": {
    "ExecuteTime": {
     "end_time": "2024-07-20T06:37:21.381227Z",
     "start_time": "2024-07-20T06:37:21.376614Z"
    }
   },
   "cell_type": "code",
   "source": "data_by_cat[33][0:3]",
   "id": "82046cf8c4695c1a",
   "outputs": [
    {
     "data": {
      "text/plain": [
       "[{'id': 25,\n",
       "  'image_id': 2,\n",
       "  'category_id': 33,\n",
       "  'bbox': [266, 26, 279.5, 336.5],\n",
       "  'area': 94051.75,\n",
       "  'segmentation': [],\n",
       "  'iscrowd': 0},\n",
       " {'id': 95,\n",
       "  'image_id': 10,\n",
       "  'category_id': 33,\n",
       "  'bbox': [248, 85, 293, 335],\n",
       "  'area': 98155,\n",
       "  'segmentation': [],\n",
       "  'iscrowd': 0},\n",
       " {'id': 102,\n",
       "  'image_id': 11,\n",
       "  'category_id': 33,\n",
       "  'bbox': [224, 228, 88.5, 156],\n",
       "  'area': 13806,\n",
       "  'segmentation': [],\n",
       "  'iscrowd': 0}]"
      ]
     },
     "execution_count": 9,
     "metadata": {},
     "output_type": "execute_result"
    }
   ],
   "execution_count": 9
  },
  {
   "metadata": {
    "ExecuteTime": {
     "end_time": "2024-07-20T06:37:22.689277Z",
     "start_time": "2024-07-20T06:37:22.685758Z"
    }
   },
   "cell_type": "code",
   "source": [
    "def create_id2cat(annots) -> dict:\n",
    "    \"\"\"\n",
    "    Returns a python dictionary mapping category_id to their corresponding category name.\n",
    "    Args:\n",
    "        annots(dict): Python dictionary containing annotation data of dataset.\n",
    "    \"\"\"\n",
    "    id2cat = {}\n",
    "    \n",
    "    for category in annots['categories']:\n",
    "        id2cat[category['id']] = category['name']\n",
    "    return id2cat"
   ],
   "id": "c1c0309caaa20d25",
   "outputs": [],
   "execution_count": 10
  },
  {
   "metadata": {
    "ExecuteTime": {
     "end_time": "2024-07-20T06:37:23.206129Z",
     "start_time": "2024-07-20T06:37:23.203109Z"
    }
   },
   "cell_type": "code",
   "source": [
    "rflow_id2cat = create_id2cat(rflow_annots)\n",
    "rflow_id2cat"
   ],
   "id": "392bf62d32f9eac8",
   "outputs": [
    {
     "data": {
      "text/plain": [
       "{0: 'Cattle',\n",
       " 1: 'BCS-1',\n",
       " 2: 'BCS-1.25',\n",
       " 3: 'BCS-1.5',\n",
       " 4: 'BCS-1.75',\n",
       " 5: 'BCS-2',\n",
       " 6: 'BCS-2.25',\n",
       " 7: 'BCS-2.5',\n",
       " 8: 'BCS-2.75',\n",
       " 9: 'BCS-3',\n",
       " 10: 'BCS-3.25',\n",
       " 11: 'BCS-3.5',\n",
       " 12: 'BCS-3.75',\n",
       " 13: 'BCS-4',\n",
       " 14: 'BCS-4.25',\n",
       " 15: 'BCS-4.5',\n",
       " 16: 'BCS-4.75',\n",
       " 17: 'Breed-Grade-A2',\n",
       " 18: 'Breed-Grade-A3',\n",
       " 19: 'Breed-Grade-B',\n",
       " 20: 'Breed-Grade-C',\n",
       " 21: 'Compact-Udder',\n",
       " 22: 'Deep-Clefted',\n",
       " 23: 'Dry-Wound',\n",
       " 24: 'Gir-Cow',\n",
       " 25: 'HF-Crossbreed-Cow',\n",
       " 26: 'Hallikar-Cow',\n",
       " 27: 'Horn Present',\n",
       " 28: 'Jersey-Crossbreed-Cow',\n",
       " 29: 'Moderate-Worm-Load',\n",
       " 30: 'Moderately-Clefted',\n",
       " 31: 'Moderately-Pendulous-Udder',\n",
       " 32: 'Moderately-Rough-Skin-Coat',\n",
       " 33: 'No-Worms',\n",
       " 34: 'No-Wound',\n",
       " 35: 'Non-Descript-Breed-Cow',\n",
       " 36: 'Pendulous-Udder',\n",
       " 37: 'Polled',\n",
       " 38: 'Pot-Belly-Present',\n",
       " 39: 'Rough-Skin-Coat',\n",
       " 40: 'Shiny-Skin-Coat',\n",
       " 41: 'Slightly-Clefted',\n",
       " 42: 'Small-Tight-Udder',\n",
       " 43: 'Teat-Score-3',\n",
       " 44: 'Teat-Score-5',\n",
       " 45: 'Teat-Score-7',\n",
       " 46: 'Teat-Score-9',\n",
       " 47: 'Ulcerated-Wound',\n",
       " 48: 'grad'}"
      ]
     },
     "execution_count": 11,
     "metadata": {},
     "output_type": "execute_result"
    }
   ],
   "execution_count": 11
  },
  {
   "metadata": {
    "ExecuteTime": {
     "end_time": "2024-07-20T06:37:27.994447Z",
     "start_time": "2024-07-20T06:37:27.990340Z"
    }
   },
   "cell_type": "code",
   "source": [
    "def create_id_2_imgname(annots) -> dict:\n",
    "    \"\"\"\n",
    "    Returns a python dictionary mapping image_ids to their corresponding image names.\n",
    "    Args:\n",
    "        annots(dict): Python dictionary containing annotation data of dataset.\n",
    "    \"\"\"\n",
    "    id2name = {}\n",
    "    \n",
    "    for image in annots['images']:\n",
    "        id2name[image['id']] = image['file_name']\n",
    "    return id2name"
   ],
   "id": "227b265d341d203a",
   "outputs": [],
   "execution_count": 12
  },
  {
   "metadata": {
    "ExecuteTime": {
     "end_time": "2024-07-20T06:37:28.276921Z",
     "start_time": "2024-07-20T06:37:28.274091Z"
    }
   },
   "cell_type": "code",
   "source": [
    "rflow_id2name = create_id_2_imgname(rflow_annots)\n",
    "len(rflow_id2name)"
   ],
   "id": "6c2807fe475b025d",
   "outputs": [
    {
     "data": {
      "text/plain": [
       "79"
      ]
     },
     "execution_count": 13,
     "metadata": {},
     "output_type": "execute_result"
    }
   ],
   "execution_count": 13
  },
  {
   "metadata": {
    "ExecuteTime": {
     "end_time": "2024-07-20T06:37:29.641971Z",
     "start_time": "2024-07-20T06:37:29.638238Z"
    }
   },
   "cell_type": "code",
   "source": [
    "def create_categorized_dset(og_img_dir, new_img_dir, data_by_cat, id2cat, id2name) -> None:\n",
    "    \"\"\"\n",
    "    Segregates categorized annotation data into folders, each with its corresponding images and json annotation file.\n",
    "    Args:\n",
    "        og_img_dir(str): Folder container original image data to be split into categories.\n",
    "        data_by_cat(dict): Python dictionary containing category-wise annotations for the dataset.\n",
    "        id2cat(dict): Python dictionary mapping category id to corresponding category name.\n",
    "        id2name(dict): Python dictionary mapping image_id to corresponding image name.\n",
    "        \n",
    "    Returns:\n",
    "        None\n",
    "    \"\"\"\n",
    "    for id, cat in id2cat.items():\n",
    "        cat_annots = {}\n",
    "        cat_dir = f\"{new_img_dir}/{cat}/\"\n",
    "        \n",
    "        if not os.path.exists(cat_dir):\n",
    "            os.makedirs(cat_dir)\n",
    "        \n",
    "        if id in data_by_cat:\n",
    "            for img_annot in data_by_cat[id]:\n",
    "                img_name = id2name[img_annot['image_id']]\n",
    "                og_img_path = os.path.join(og_img_dir, img_name)\n",
    "                new_img_path = os.path.join(cat_dir, img_name)\n",
    "                cat_annots[img_name] = img_annot\n",
    "                shutil.copy(og_img_path, new_img_path)\n",
    "        with open(os.path.join(cat_dir, f\"annotations.{cat}.json\"), 'w+') as f:\n",
    "            json.dump(cat_annots, f)"
   ],
   "id": "e47ca697a275a94b",
   "outputs": [],
   "execution_count": 14
  },
  {
   "metadata": {
    "ExecuteTime": {
     "end_time": "2024-07-20T06:37:30.470679Z",
     "start_time": "2024-07-20T06:37:30.408259Z"
    }
   },
   "cell_type": "code",
   "source": "create_categorized_dset(TRAIN_DIR, SORTED_DIR, data_by_cat, rflow_id2cat, rflow_id2name)",
   "id": "44e4ffad09664807",
   "outputs": [],
   "execution_count": 15
  },
  {
   "metadata": {
    "ExecuteTime": {
     "end_time": "2024-07-20T06:38:05.171821Z",
     "start_time": "2024-07-20T06:38:05.147342Z"
    }
   },
   "cell_type": "code",
   "source": [
    "def get_dir_filecount(directory):\n",
    "    \"\"\"\n",
    "    Prints the count of files present in each subdirectory of a given main directory.\n",
    "    Args:\n",
    "        directory(str): Path to directory containing files to be counted.\n",
    "\n",
    "    Returns:\n",
    "        None\n",
    "    \"\"\"\n",
    "    for subdir in os.listdir(directory):\n",
    "        subdir_path = os.path.join(directory, subdir)\n",
    "        print(f\"Sub-Dir: {subdir} | No. of files: {len(os.listdir(subdir_path))}\")\n",
    "get_dir_filecount(\"data/RF_sorted_data/\")"
   ],
   "id": "82d723eae1b34ece",
   "outputs": [
    {
     "name": "stdout",
     "output_type": "stream",
     "text": [
      "Sub-Dir: Breed-Grade-A3 | No. of files: 41\n",
      "Sub-Dir: Moderately-Clefted | No. of files: 83\n",
      "Sub-Dir: Teat-Score-5 | No. of files: 53\n",
      "Sub-Dir: Polled | No. of files: 19\n",
      "Sub-Dir: BCS-1.25 | No. of files: 2\n",
      "Sub-Dir: Breed-Grade-B | No. of files: 38\n",
      "Sub-Dir: Shiny-Skin-Coat | No. of files: 37\n",
      "Sub-Dir: No-Worms | No. of files: 25\n",
      "Sub-Dir: Cattle | No. of files: 1\n",
      "Sub-Dir: Breed-Grade-C | No. of files: 15\n",
      "Sub-Dir: Breed-Grade-A2 | No. of files: 11\n",
      "Sub-Dir: Hallikar-Cow | No. of files: 6\n",
      "Sub-Dir: Teat-Score-7 | No. of files: 58\n",
      "Sub-Dir: Moderate-Worm-Load | No. of files: 56\n",
      "Sub-Dir: BCS-1 | No. of files: 2\n",
      "Sub-Dir: Rough-Skin-Coat | No. of files: 14\n",
      "Sub-Dir: Horn Present | No. of files: 87\n",
      "Sub-Dir: Dry-Wound | No. of files: 63\n",
      "Sub-Dir: No-Wound | No. of files: 21\n",
      "Sub-Dir: BCS-4.75 | No. of files: 3\n",
      "Sub-Dir: BCS-4 | No. of files: 12\n",
      "Sub-Dir: HF-Crossbreed-Cow | No. of files: 71\n",
      "Sub-Dir: Non-Descript-Breed-Cow | No. of files: 10\n",
      "Sub-Dir: BCS-1.5 | No. of files: 11\n",
      "Sub-Dir: Moderately-Pendulous-Udder | No. of files: 7\n",
      "Sub-Dir: grad | No. of files: 3\n",
      "Sub-Dir: Ulcerated-Wound | No. of files: 12\n",
      "Sub-Dir: BCS-2.75 | No. of files: 5\n",
      "Sub-Dir: Compact-Udder | No. of files: 70\n",
      "Sub-Dir: Moderately pendulous Udder | No. of files: 21\n",
      "Sub-Dir: BCS-4.25 | No. of files: 7\n",
      "Sub-Dir: Pendulous-Udder | No. of files: 4\n",
      "Sub-Dir: Moderately-Rough-Skin-Coat | No. of files: 53\n",
      "Sub-Dir: BCS-2 | No. of files: 15\n",
      "Sub-Dir: BCS-4.5 | No. of files: 3\n",
      "Sub-Dir: Slightly-Clefted | No. of files: 24\n",
      "Sub-Dir: Teat-Score-3 | No. of files: 5\n",
      "Sub-Dir: BCS-2.5 | No. of files: 9\n",
      "Sub-Dir: Small-Tight-Udder | No. of files: 7\n",
      "Sub-Dir: BCS-1.75 | No. of files: 7\n",
      "Sub-Dir: BCS-3 | No. of files: 8\n",
      "Sub-Dir: Pot-Belly-Present | No. of files: 25\n",
      "Sub-Dir: BCS-3.75 | No. of files: 5\n",
      "Sub-Dir: Deep-Clefted | No. of files: 11\n",
      "Sub-Dir: BCS-2.25 | No. of files: 15\n",
      "Sub-Dir: BCS-3.25 | No. of files: 7\n",
      "Sub-Dir: Teat-Score-9 | No. of files: 5\n",
      "Sub-Dir: BCS-3.5 | No. of files: 5\n",
      "Sub-Dir: Jersey-Crossbreed-Cow | No. of files: 18\n",
      "Sub-Dir: Gir-Cow | No. of files: 5\n"
     ]
    }
   ],
   "execution_count": 16
  },
  {
   "metadata": {},
   "cell_type": "code",
   "outputs": [],
   "execution_count": null,
   "source": "",
   "id": "5543cafc61e3bd36"
  }
 ],
 "metadata": {
  "kernelspec": {
   "display_name": "Python 3",
   "language": "python",
   "name": "python3"
  },
  "language_info": {
   "codemirror_mode": {
    "name": "ipython",
    "version": 2
   },
   "file_extension": ".py",
   "mimetype": "text/x-python",
   "name": "python",
   "nbconvert_exporter": "python",
   "pygments_lexer": "ipython2",
   "version": "2.7.6"
  }
 },
 "nbformat": 4,
 "nbformat_minor": 5
}
