{
 "cells": [
  {
   "cell_type": "code",
   "id": "initial_id",
   "metadata": {
    "collapsed": true,
    "ExecuteTime": {
     "end_time": "2024-07-22T11:39:04.447132Z",
     "start_time": "2024-07-22T11:39:04.444008Z"
    }
   },
   "source": [
    "import os\n",
    "import json\n",
    "import shutil"
   ],
   "outputs": [],
   "execution_count": 1
  },
  {
   "metadata": {
    "ExecuteTime": {
     "end_time": "2024-07-22T11:47:03.004713Z",
     "start_time": "2024-07-22T11:47:03.001872Z"
    }
   },
   "cell_type": "code",
   "source": [
    "SOURCE_DATA_DIR = \"data/RF_sorted\"\n",
    "\n",
    "BCS_OUT_DIR = 'data/RF_sorted/agg_data/BCS'\n",
    "BCS_YOLO_DIR = 'data/YOLOv8/BCS'\n",
    "\n",
    "UTYPE_OUT_DIR = 'data/RF_sorted/agg_data/UdderType'\n",
    "UTYPE_YOLO_DIR = 'data/YOLOv8/UdderType'\n",
    "\n",
    "CLEFT_OUT_DIR = 'data/RF_sorted/agg_data/Cleft'\n",
    "CLEFT_YOLO_DIR = 'data/YOLOv8/Cleft'\n",
    "\n",
    "TSCORE_OUT_DIR = 'data/RF_sorted/agg_data/TScore'\n",
    "TSCORE_YOLO_DIR = 'data/YOLOv8/TScore'\n",
    "\n",
    "BREED_OUT_DIR = 'data/RF_sorted/agg_data/CowBreed'\n",
    "BREED_YOLO_DIR = 'data/YOLOv8/CowBreed'\n",
    "\n",
    "GRADE_OUT_DIR = 'data/RF_sorted/agg_data/Grade'\n",
    "GRADE_YOLO_DIR = 'data/YOLOv8/Grade'"
   ],
   "id": "93909427aac513df",
   "outputs": [],
   "execution_count": 30
  },
  {
   "metadata": {
    "ExecuteTime": {
     "end_time": "2024-07-22T11:47:03.663335Z",
     "start_time": "2024-07-22T11:47:03.659774Z"
    }
   },
   "cell_type": "code",
   "source": [
    "def convert_coco_to_yolov8(bbox, img_width, img_height):\n",
    "    x_min, y_min, bbox_width, bbox_height = bbox\n",
    "    x_center = (x_min + bbox_width / 2) / img_width\n",
    "    y_center = (y_min + bbox_height / 2) / img_height\n",
    "    width = bbox_width / img_width\n",
    "    height = bbox_height / img_height\n",
    "    return x_center, y_center, width, height"
   ],
   "id": "2265ee9273f98041",
   "outputs": [],
   "execution_count": 31
  },
  {
   "metadata": {
    "ExecuteTime": {
     "end_time": "2024-07-22T11:47:04.026059Z",
     "start_time": "2024-07-22T11:47:04.023098Z"
    }
   },
   "cell_type": "code",
   "source": [
    "def aggregate_class_folders(source_dir, target_dir, main_class):\n",
    "    if not os.path.exists(target_dir):\n",
    "        os.makedirs(target_dir, exist_ok=True)\n",
    "    subdirs = sorted(os.listdir(source_dir))\n",
    "    for subdir in subdirs:\n",
    "        if subdir.startswith(main_class) or subdir.endswith(main_class):\n",
    "            shutil.copytree(os.path.join(source_dir, subdir), os.path.join(target_dir, subdir))\n",
    "            print(f'Copied {subdir} to {target_dir}')"
   ],
   "id": "50205a10ae52aafd",
   "outputs": [],
   "execution_count": 32
  },
  {
   "metadata": {
    "ExecuteTime": {
     "end_time": "2024-07-22T11:47:04.490234Z",
     "start_time": "2024-07-22T11:47:04.486327Z"
    }
   },
   "cell_type": "code",
   "source": [
    "def reformat_coco_annots(source_dir, output_dir):\n",
    "    if not os.path.exists(output_dir):\n",
    "        os.makedirs(output_dir, exist_ok=True)\n",
    "\n",
    "    subdirs = sorted(os.listdir(source_dir))\n",
    "    img_dir = os.path.join(output_dir, 'train/images')\n",
    "    labels_dir = os.path.join(output_dir, 'train/labels')\n",
    "\n",
    "    if not os.path.exists(labels_dir):\n",
    "        os.makedirs(labels_dir, exist_ok=True)\n",
    "    if not os.path.exists(img_dir):\n",
    "        os.makedirs(img_dir, exist_ok=True)\n",
    "\n",
    "    img_width, img_height = 640, 640\n",
    "\n",
    "    for cat_id, cat_dir in enumerate(subdirs):\n",
    "        cat_path = os.path.join(source_dir, cat_dir)\n",
    "        if os.path.isdir(cat_path):\n",
    "            annotation_file = [f for f in os.listdir(cat_path) if f.endswith('.json')][0]\n",
    "            annotation_path = os.path.join(cat_path, annotation_file)\n",
    "\n",
    "            with open(annotation_path, 'r') as f:\n",
    "                annotations = json.load(f)\n",
    "\n",
    "            for img_file, annots in annotations.items():\n",
    "                src_img_path = os.path.join(cat_path, img_file)\n",
    "                trgt_img_path = os.path.join(img_dir, img_file)\n",
    "\n",
    "                shutil.copy(src_img_path, trgt_img_path)\n",
    "                # print(img_file, annots)\n",
    "                bbox = annots['bbox']\n",
    "                x_center, y_center, width, height = convert_coco_to_yolov8(bbox, img_width, img_height)\n",
    "\n",
    "                yolo_annotation = f\"{cat_id} {x_center} {y_center} {width} {height}\"\n",
    "                label_file_name = img_file.replace('.jpg', '.txt')\n",
    "                label_file_path = os.path.join(labels_dir, label_file_name)\n",
    "                # print(yolo_annotation, label_file_path)\n",
    "                with open(label_file_path, 'w') as label_file:\n",
    "                    label_file.write(yolo_annotation + \"\\n\")\n",
    "        print(f\"Successfully converted {cat_dir} to yolov8 annotation format.\")\n",
    "    print(f\"Finished conversion of {source_dir} to yolov8 annotation format.\")"
   ],
   "id": "4adcfcc53613979d",
   "outputs": [],
   "execution_count": 33
  },
  {
   "metadata": {
    "ExecuteTime": {
     "end_time": "2024-07-22T11:47:04.905725Z",
     "start_time": "2024-07-22T11:47:04.902389Z"
    }
   },
   "cell_type": "code",
   "source": [
    "def compare_file_counts(src_dir, agg_dir, yolo_dir, main_class) -> None:\n",
    "    init_cnt, post_cnt, yolo_cnt = 0, 0, 0\n",
    "    for src_subdir in os.listdir(src_dir):\n",
    "        if src_subdir.startswith(main_class) or src_subdir.endswith(main_class):\n",
    "            subdir_path = os.path.join(src_dir, src_subdir)\n",
    "            for file in os.listdir(subdir_path):\n",
    "                if file.endswith(\".jpg\"):\n",
    "                    init_cnt += 1\n",
    "    for agg_subdir in os.listdir(agg_dir):\n",
    "        if agg_subdir.startswith(main_class) or agg_subdir.endswith(main_class):\n",
    "            subdir_path = os.path.join(agg_dir, agg_subdir)\n",
    "            for file in os.listdir(subdir_path):\n",
    "                if file.endswith(\".jpg\"):\n",
    "                    post_cnt += 1\n",
    "                    \n",
    "    for yolo_file in os.listdir(yolo_dir + \"/train/images/\"):\n",
    "        if yolo_file.endswith(\".jpg\"):\n",
    "            yolo_cnt += 1\n",
    "            \n",
    "    print(f\"Pre-aggregation: {init_cnt}, Post-aggregation: {post_cnt}, Post-conversion: {yolo_cnt}\")"
   ],
   "id": "392fee3941db06c0",
   "outputs": [],
   "execution_count": 34
  },
  {
   "metadata": {},
   "cell_type": "markdown",
   "source": "# Conversion of BCS data",
   "id": "3af426f78c1a7f75"
  },
  {
   "metadata": {
    "ExecuteTime": {
     "end_time": "2024-07-22T11:47:06.052354Z",
     "start_time": "2024-07-22T11:47:05.998335Z"
    }
   },
   "cell_type": "code",
   "source": "aggregate_class_folders(SOURCE_DATA_DIR, BCS_OUT_DIR, main_class='BCS-')",
   "id": "f6546add38556af7",
   "outputs": [
    {
     "name": "stdout",
     "output_type": "stream",
     "text": [
      "Copied BCS-1 to data/RF_sorted/agg_data/BCS\n",
      "Copied BCS-1.25 to data/RF_sorted/agg_data/BCS\n",
      "Copied BCS-1.5 to data/RF_sorted/agg_data/BCS\n",
      "Copied BCS-1.75 to data/RF_sorted/agg_data/BCS\n",
      "Copied BCS-2 to data/RF_sorted/agg_data/BCS\n",
      "Copied BCS-2.25 to data/RF_sorted/agg_data/BCS\n",
      "Copied BCS-2.5 to data/RF_sorted/agg_data/BCS\n",
      "Copied BCS-2.75 to data/RF_sorted/agg_data/BCS\n",
      "Copied BCS-3 to data/RF_sorted/agg_data/BCS\n",
      "Copied BCS-3.25 to data/RF_sorted/agg_data/BCS\n",
      "Copied BCS-3.5 to data/RF_sorted/agg_data/BCS\n",
      "Copied BCS-3.75 to data/RF_sorted/agg_data/BCS\n",
      "Copied BCS-4 to data/RF_sorted/agg_data/BCS\n",
      "Copied BCS-4.25 to data/RF_sorted/agg_data/BCS\n",
      "Copied BCS-4.5 to data/RF_sorted/agg_data/BCS\n",
      "Copied BCS-4.75 to data/RF_sorted/agg_data/BCS\n"
     ]
    }
   ],
   "execution_count": 35
  },
  {
   "metadata": {
    "ExecuteTime": {
     "end_time": "2024-07-22T11:47:06.673040Z",
     "start_time": "2024-07-22T11:47:06.659139Z"
    }
   },
   "cell_type": "code",
   "source": "reformat_coco_annots(BCS_OUT_DIR, BCS_YOLO_DIR)",
   "id": "cdc28419d31efdfb",
   "outputs": [
    {
     "name": "stdout",
     "output_type": "stream",
     "text": [
      "Successfully converted BCS-1 to yolov8 annotation format.\n",
      "Successfully converted BCS-1.25 to yolov8 annotation format.\n",
      "Successfully converted BCS-1.5 to yolov8 annotation format.\n",
      "Successfully converted BCS-1.75 to yolov8 annotation format.\n",
      "Successfully converted BCS-2 to yolov8 annotation format.\n",
      "Successfully converted BCS-2.25 to yolov8 annotation format.\n",
      "Successfully converted BCS-2.5 to yolov8 annotation format.\n",
      "Successfully converted BCS-2.75 to yolov8 annotation format.\n",
      "Successfully converted BCS-3 to yolov8 annotation format.\n",
      "Successfully converted BCS-3.25 to yolov8 annotation format.\n",
      "Successfully converted BCS-3.5 to yolov8 annotation format.\n",
      "Successfully converted BCS-3.75 to yolov8 annotation format.\n",
      "Successfully converted BCS-4 to yolov8 annotation format.\n",
      "Successfully converted BCS-4.25 to yolov8 annotation format.\n",
      "Successfully converted BCS-4.5 to yolov8 annotation format.\n",
      "Successfully converted BCS-4.75 to yolov8 annotation format.\n",
      "Finished conversion of data/RF_sorted/agg_data/BCS to yolov8 annotation format.\n"
     ]
    }
   ],
   "execution_count": 36
  },
  {
   "metadata": {
    "ExecuteTime": {
     "end_time": "2024-07-22T11:47:07.745197Z",
     "start_time": "2024-07-22T11:47:07.742392Z"
    }
   },
   "cell_type": "code",
   "source": "compare_file_counts(SOURCE_DATA_DIR, BCS_OUT_DIR, BCS_YOLO_DIR, main_class='BCS-')",
   "id": "bba12d834cb898c5",
   "outputs": [
    {
     "name": "stdout",
     "output_type": "stream",
     "text": [
      "Pre-aggregation: 101, Post-aggregation: 101, Post-conversion: 101\n"
     ]
    }
   ],
   "execution_count": 37
  },
  {
   "metadata": {},
   "cell_type": "markdown",
   "source": "# Conversion of Type of Udder data",
   "id": "a22e6c23dad4e63d"
  },
  {
   "metadata": {
    "ExecuteTime": {
     "end_time": "2024-07-22T11:47:08.788941Z",
     "start_time": "2024-07-22T11:47:08.741326Z"
    }
   },
   "cell_type": "code",
   "source": "aggregate_class_folders(SOURCE_DATA_DIR, UTYPE_OUT_DIR, main_class='Udder-')",
   "id": "fa59d6d79c66e564",
   "outputs": [
    {
     "name": "stdout",
     "output_type": "stream",
     "text": [
      "Copied Udder-Compact to data/RF_sorted/agg_data/UdderType\n",
      "Copied Udder-Moderately-Pendulous to data/RF_sorted/agg_data/UdderType\n",
      "Copied Udder-Pendulous to data/RF_sorted/agg_data/UdderType\n",
      "Copied Udder-Small-Tight to data/RF_sorted/agg_data/UdderType\n"
     ]
    }
   ],
   "execution_count": 38
  },
  {
   "metadata": {
    "ExecuteTime": {
     "end_time": "2024-07-22T11:47:09.249392Z",
     "start_time": "2024-07-22T11:47:09.228980Z"
    }
   },
   "cell_type": "code",
   "source": "reformat_coco_annots(UTYPE_OUT_DIR, UTYPE_YOLO_DIR)",
   "id": "4edc778e25fbcf29",
   "outputs": [
    {
     "name": "stdout",
     "output_type": "stream",
     "text": [
      "Successfully converted Udder-Compact to yolov8 annotation format.\n",
      "Successfully converted Udder-Moderately-Pendulous to yolov8 annotation format.\n",
      "Successfully converted Udder-Pendulous to yolov8 annotation format.\n",
      "Successfully converted Udder-Small-Tight to yolov8 annotation format.\n",
      "Finished conversion of data/RF_sorted/agg_data/UdderType to yolov8 annotation format.\n"
     ]
    }
   ],
   "execution_count": 39
  },
  {
   "metadata": {
    "ExecuteTime": {
     "end_time": "2024-07-22T11:47:09.758033Z",
     "start_time": "2024-07-22T11:47:09.754742Z"
    }
   },
   "cell_type": "code",
   "source": "compare_file_counts(SOURCE_DATA_DIR, UTYPE_OUT_DIR, UTYPE_YOLO_DIR, main_class='Udder-')",
   "id": "293bdfe2f5f53352",
   "outputs": [
    {
     "name": "stdout",
     "output_type": "stream",
     "text": [
      "Pre-aggregation: 105, Post-aggregation: 105, Post-conversion: 105\n"
     ]
    }
   ],
   "execution_count": 40
  },
  {
   "metadata": {},
   "cell_type": "markdown",
   "source": "# Conversion of Cleft data",
   "id": "a57880b0a883cb90"
  },
  {
   "metadata": {
    "ExecuteTime": {
     "end_time": "2024-07-22T11:47:10.637311Z",
     "start_time": "2024-07-22T11:47:10.604981Z"
    }
   },
   "cell_type": "code",
   "source": "aggregate_class_folders(SOURCE_DATA_DIR, CLEFT_OUT_DIR, main_class='Clefted-')",
   "id": "d14201441602f166",
   "outputs": [
    {
     "name": "stdout",
     "output_type": "stream",
     "text": [
      "Copied Clefted-Deep to data/RF_sorted/agg_data/Cleft\n",
      "Copied Clefted-Moderate to data/RF_sorted/agg_data/Cleft\n",
      "Copied Clefted-Slightly to data/RF_sorted/agg_data/Cleft\n"
     ]
    }
   ],
   "execution_count": 41
  },
  {
   "metadata": {
    "ExecuteTime": {
     "end_time": "2024-07-22T11:47:11.141471Z",
     "start_time": "2024-07-22T11:47:11.126096Z"
    }
   },
   "cell_type": "code",
   "source": "reformat_coco_annots(CLEFT_OUT_DIR, CLEFT_YOLO_DIR)",
   "id": "ff2607983bfb4c11",
   "outputs": [
    {
     "name": "stdout",
     "output_type": "stream",
     "text": [
      "Successfully converted Clefted-Deep to yolov8 annotation format.\n",
      "Successfully converted Clefted-Moderate to yolov8 annotation format.\n",
      "Successfully converted Clefted-Slightly to yolov8 annotation format.\n",
      "Finished conversion of data/RF_sorted/agg_data/Cleft to yolov8 annotation format.\n"
     ]
    }
   ],
   "execution_count": 42
  },
  {
   "metadata": {
    "ExecuteTime": {
     "end_time": "2024-07-22T11:47:11.654811Z",
     "start_time": "2024-07-22T11:47:11.651065Z"
    }
   },
   "cell_type": "code",
   "source": "compare_file_counts(SOURCE_DATA_DIR, CLEFT_OUT_DIR, CLEFT_YOLO_DIR, main_class=\"Clefted-\")",
   "id": "5676d4c1b7034bf",
   "outputs": [
    {
     "name": "stdout",
     "output_type": "stream",
     "text": [
      "Pre-aggregation: 116, Post-aggregation: 116, Post-conversion: 116\n"
     ]
    }
   ],
   "execution_count": 43
  },
  {
   "metadata": {},
   "cell_type": "markdown",
   "source": "# Conversion of Teat Score data",
   "id": "775733561593f537"
  },
  {
   "metadata": {
    "ExecuteTime": {
     "end_time": "2024-07-22T11:47:12.627425Z",
     "start_time": "2024-07-22T11:47:12.580137Z"
    }
   },
   "cell_type": "code",
   "source": "aggregate_class_folders(SOURCE_DATA_DIR, TSCORE_OUT_DIR, main_class=\"Teat-Score-\")",
   "id": "bbb2e812fbd7a190",
   "outputs": [
    {
     "name": "stdout",
     "output_type": "stream",
     "text": [
      "Copied Teat-Score-3 to data/RF_sorted/agg_data/TScore\n",
      "Copied Teat-Score-5 to data/RF_sorted/agg_data/TScore\n",
      "Copied Teat-Score-7 to data/RF_sorted/agg_data/TScore\n",
      "Copied Teat-Score-9 to data/RF_sorted/agg_data/TScore\n"
     ]
    }
   ],
   "execution_count": 44
  },
  {
   "metadata": {
    "ExecuteTime": {
     "end_time": "2024-07-22T11:47:13.052517Z",
     "start_time": "2024-07-22T11:47:13.027723Z"
    }
   },
   "cell_type": "code",
   "source": "reformat_coco_annots(TSCORE_OUT_DIR, TSCORE_YOLO_DIR)",
   "id": "cdb133958d573a0",
   "outputs": [
    {
     "name": "stdout",
     "output_type": "stream",
     "text": [
      "Successfully converted Teat-Score-3 to yolov8 annotation format.\n",
      "Successfully converted Teat-Score-5 to yolov8 annotation format.\n",
      "Successfully converted Teat-Score-7 to yolov8 annotation format.\n",
      "Successfully converted Teat-Score-9 to yolov8 annotation format.\n",
      "Finished conversion of data/RF_sorted/agg_data/TScore to yolov8 annotation format.\n"
     ]
    }
   ],
   "execution_count": 45
  },
  {
   "metadata": {
    "ExecuteTime": {
     "end_time": "2024-07-22T11:47:13.928421Z",
     "start_time": "2024-07-22T11:47:13.924618Z"
    }
   },
   "cell_type": "code",
   "source": "compare_file_counts(SOURCE_DATA_DIR, TSCORE_OUT_DIR, TSCORE_YOLO_DIR, main_class=\"Teat-Score-\")",
   "id": "6ce4e7edf49eedb4",
   "outputs": [
    {
     "name": "stdout",
     "output_type": "stream",
     "text": [
      "Pre-aggregation: 118, Post-aggregation: 118, Post-conversion: 118\n"
     ]
    }
   ],
   "execution_count": 46
  },
  {
   "metadata": {},
   "cell_type": "markdown",
   "source": "# Conversion of Cow Breed data",
   "id": "a80b7edeb95d0a65"
  },
  {
   "metadata": {
    "ExecuteTime": {
     "end_time": "2024-07-22T11:47:15.009820Z",
     "start_time": "2024-07-22T11:47:14.962842Z"
    }
   },
   "cell_type": "code",
   "source": "aggregate_class_folders(SOURCE_DATA_DIR, BREED_OUT_DIR, main_class='Cow-')",
   "id": "5b8d91d59fdb1795",
   "outputs": [
    {
     "name": "stdout",
     "output_type": "stream",
     "text": [
      "Copied Cow-Gir to data/RF_sorted/agg_data/CowBreed\n",
      "Copied Cow-HF-Crossbreed to data/RF_sorted/agg_data/CowBreed\n",
      "Copied Cow-Hallikar to data/RF_sorted/agg_data/CowBreed\n",
      "Copied Cow-Jersey-Crossbreed to data/RF_sorted/agg_data/CowBreed\n",
      "Copied Cow-Non-Descript-Breed to data/RF_sorted/agg_data/CowBreed\n"
     ]
    }
   ],
   "execution_count": 47
  },
  {
   "metadata": {
    "ExecuteTime": {
     "end_time": "2024-07-22T11:47:15.424430Z",
     "start_time": "2024-07-22T11:47:15.408157Z"
    }
   },
   "cell_type": "code",
   "source": "reformat_coco_annots(BREED_OUT_DIR, BREED_YOLO_DIR)",
   "id": "7543c160ab56e4d6",
   "outputs": [
    {
     "name": "stdout",
     "output_type": "stream",
     "text": [
      "Successfully converted Cow-Gir to yolov8 annotation format.\n",
      "Successfully converted Cow-HF-Crossbreed to yolov8 annotation format.\n",
      "Successfully converted Cow-Hallikar to yolov8 annotation format.\n",
      "Successfully converted Cow-Jersey-Crossbreed to yolov8 annotation format.\n",
      "Successfully converted Cow-Non-Descript-Breed to yolov8 annotation format.\n",
      "Finished conversion of data/RF_sorted/agg_data/CowBreed to yolov8 annotation format.\n"
     ]
    }
   ],
   "execution_count": 48
  },
  {
   "metadata": {
    "ExecuteTime": {
     "end_time": "2024-07-22T11:47:15.848917Z",
     "start_time": "2024-07-22T11:47:15.845193Z"
    }
   },
   "cell_type": "code",
   "source": "compare_file_counts(SOURCE_DATA_DIR, BREED_OUT_DIR, BREED_YOLO_DIR, main_class='Cow-')",
   "id": "f454371cff2315ba",
   "outputs": [
    {
     "name": "stdout",
     "output_type": "stream",
     "text": [
      "Pre-aggregation: 106, Post-aggregation: 106, Post-conversion: 106\n"
     ]
    }
   ],
   "execution_count": 49
  },
  {
   "metadata": {},
   "cell_type": "markdown",
   "source": "# Conversion of Breed Grade data",
   "id": "c63cedb73c351163"
  },
  {
   "metadata": {
    "ExecuteTime": {
     "end_time": "2024-07-22T11:47:17.047821Z",
     "start_time": "2024-07-22T11:47:17.009748Z"
    }
   },
   "cell_type": "code",
   "source": "aggregate_class_folders(SOURCE_DATA_DIR, GRADE_OUT_DIR, main_class='Breed-Grade-')",
   "id": "1f626cea955cc19e",
   "outputs": [
    {
     "name": "stdout",
     "output_type": "stream",
     "text": [
      "Copied Breed-Grade-A2 to data/RF_sorted/agg_data/Grade\n",
      "Copied Breed-Grade-A3 to data/RF_sorted/agg_data/Grade\n",
      "Copied Breed-Grade-B to data/RF_sorted/agg_data/Grade\n",
      "Copied Breed-Grade-C to data/RF_sorted/agg_data/Grade\n"
     ]
    }
   ],
   "execution_count": 50
  },
  {
   "metadata": {
    "ExecuteTime": {
     "end_time": "2024-07-22T11:47:17.522268Z",
     "start_time": "2024-07-22T11:47:17.508729Z"
    }
   },
   "cell_type": "code",
   "source": "reformat_coco_annots(GRADE_OUT_DIR, GRADE_YOLO_DIR)",
   "id": "2f069a00855f404a",
   "outputs": [
    {
     "name": "stdout",
     "output_type": "stream",
     "text": [
      "Successfully converted Breed-Grade-A2 to yolov8 annotation format.\n",
      "Successfully converted Breed-Grade-A3 to yolov8 annotation format.\n",
      "Successfully converted Breed-Grade-B to yolov8 annotation format.\n",
      "Successfully converted Breed-Grade-C to yolov8 annotation format.\n",
      "Finished conversion of data/RF_sorted/agg_data/Grade to yolov8 annotation format.\n"
     ]
    }
   ],
   "execution_count": 51
  },
  {
   "metadata": {
    "ExecuteTime": {
     "end_time": "2024-07-22T11:47:18.052998Z",
     "start_time": "2024-07-22T11:47:18.049770Z"
    }
   },
   "cell_type": "code",
   "source": "compare_file_counts(SOURCE_DATA_DIR, GRADE_OUT_DIR, GRADE_YOLO_DIR, main_class='Breed-Grade-')",
   "id": "747bce9d89899d27",
   "outputs": [
    {
     "name": "stdout",
     "output_type": "stream",
     "text": [
      "Pre-aggregation: 102, Post-aggregation: 102, Post-conversion: 102\n"
     ]
    }
   ],
   "execution_count": 52
  }
 ],
 "metadata": {
  "kernelspec": {
   "display_name": "Python 3",
   "language": "python",
   "name": "python3"
  },
  "language_info": {
   "codemirror_mode": {
    "name": "ipython",
    "version": 2
   },
   "file_extension": ".py",
   "mimetype": "text/x-python",
   "name": "python",
   "nbconvert_exporter": "python",
   "pygments_lexer": "ipython2",
   "version": "2.7.6"
  }
 },
 "nbformat": 4,
 "nbformat_minor": 5
}
