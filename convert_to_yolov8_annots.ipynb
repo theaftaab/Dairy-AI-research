{
 "cells": [
  {
   "cell_type": "code",
   "id": "initial_id",
   "metadata": {
    "collapsed": true,
    "ExecuteTime": {
     "end_time": "2024-07-20T08:32:56.603503Z",
     "start_time": "2024-07-20T08:32:56.601692Z"
    }
   },
   "source": [
    "import os\n",
    "import json\n",
    "import shutil"
   ],
   "outputs": [],
   "execution_count": 21
  },
  {
   "metadata": {
    "ExecuteTime": {
     "end_time": "2024-07-20T09:46:26.913301Z",
     "start_time": "2024-07-20T09:46:26.908859Z"
    }
   },
   "cell_type": "code",
   "source": [
    "SOURCE_DATA_DIR = \"data/RF_sorted_data\"\n",
    "\n",
    "BCS_OUT_DIR = 'data/RF_sorted_data/BCS'\n",
    "BCS_YOLO_DIR = 'data/YOLOv8/BCS'\n",
    "\n",
    "UTYPE_OUT_DIR = 'data/RF_sorted_data/UdderType'\n",
    "UTYPE_YOLO_DIR = 'data/YOLOv8/UdderType'\n",
    "\n",
    "CLEFT_OUT_DIR = 'data/RF_sorted_data/Cleft'\n",
    "CLEFT_YOLO_DIR = 'data/YOLOv8/Cleft'\n",
    "\n",
    "TSCORE_OUT_DIR = 'data/RF_sorted_data/TScore'\n",
    "TSCORE_YOLO_DIR = 'data/YOLOv8/TScore'\n",
    "\n",
    "BREED_OUT_DIR = 'data/RF_sorted_data/CowBreed'\n",
    "BREED_YOLO_DIR = 'data/YOLOv8/CowBreed'"
   ],
   "id": "93909427aac513df",
   "outputs": [],
   "execution_count": 112
  },
  {
   "metadata": {
    "ExecuteTime": {
     "end_time": "2024-07-20T08:32:56.609332Z",
     "start_time": "2024-07-20T08:32:56.607528Z"
    }
   },
   "cell_type": "code",
   "source": [
    "def convert_coco_to_yolov8(bbox, img_width, img_height):\n",
    "    x_min, y_min, bbox_width, bbox_height = bbox\n",
    "    x_center = (x_min + bbox_width / 2) / img_width\n",
    "    y_center = (y_min + bbox_height / 2) / img_height\n",
    "    width = bbox_width / img_width\n",
    "    height = bbox_height / img_height\n",
    "    return x_center, y_center, width, height"
   ],
   "id": "2265ee9273f98041",
   "outputs": [],
   "execution_count": 23
  },
  {
   "metadata": {
    "ExecuteTime": {
     "end_time": "2024-07-20T09:05:24.006351Z",
     "start_time": "2024-07-20T09:05:24.002690Z"
    }
   },
   "cell_type": "code",
   "source": [
    "def aggregate_class_folders(source_dir, target_dir, main_class):\n",
    "    if not os.path.exists(target_dir):\n",
    "        os.makedirs(target_dir, exist_ok=True)\n",
    "    for subdir in os.listdir(source_dir):\n",
    "        if subdir.startswith(main_class) or subdir.endswith(main_class):\n",
    "            shutil.copytree(os.path.join(source_dir, subdir), os.path.join(target_dir, subdir))\n",
    "            print(f'Copied {subdir} to {target_dir}')"
   ],
   "id": "50205a10ae52aafd",
   "outputs": [],
   "execution_count": 55
  },
  {
   "metadata": {
    "ExecuteTime": {
     "end_time": "2024-07-20T09:43:06.385808Z",
     "start_time": "2024-07-20T09:43:06.380810Z"
    }
   },
   "cell_type": "code",
   "source": [
    "def reformat_coco_annots(source_dir, output_dir):\n",
    "    if not os.path.exists(output_dir):\n",
    "        os.makedirs(output_dir, exist_ok=True)\n",
    "\n",
    "    img_dir = os.path.join(output_dir, 'train/images')\n",
    "    labels_dir = os.path.join(output_dir, 'train/labels')\n",
    "\n",
    "    if not os.path.exists(labels_dir):\n",
    "        os.makedirs(labels_dir, exist_ok=True)\n",
    "    if not os.path.exists(img_dir):\n",
    "        os.makedirs(img_dir, exist_ok=True)\n",
    "\n",
    "    img_width, img_height = 640, 640\n",
    "\n",
    "    for cat_dir in os.listdir(source_dir):\n",
    "        cat_path = os.path.join(source_dir, cat_dir)\n",
    "        if os.path.isdir(cat_path):\n",
    "            annotation_file = [f for f in os.listdir(cat_path) if f.endswith('.json')][0]\n",
    "            annotation_path = os.path.join(cat_path, annotation_file)\n",
    "\n",
    "            with open(annotation_path, 'r') as f:\n",
    "                annotations = json.load(f)\n",
    "\n",
    "            for img_file, annots in annotations.items():\n",
    "                src_img_path = os.path.join(cat_path, img_file)\n",
    "                trgt_img_path = os.path.join(img_dir, img_file)\n",
    "\n",
    "                shutil.copy(src_img_path, trgt_img_path)\n",
    "                # print(img_file, annots)\n",
    "                category_id = annots['category_id'] - 1\n",
    "                bbox = annots['bbox']\n",
    "                x_center, y_center, width, height = convert_coco_to_yolov8(bbox, img_width, img_height)\n",
    "\n",
    "                yolo_annotation = f\"{category_id} {x_center} {y_center} {width} {height}\"\n",
    "                label_file_name = img_file.replace('.jpg', '.txt')\n",
    "                label_file_path = os.path.join(labels_dir, label_file_name)\n",
    "                # print(yolo_annotation, label_file_path)\n",
    "                with open(label_file_path, 'w') as label_file:\n",
    "                    label_file.write(yolo_annotation + \"\\n\")\n",
    "        print(f\"Successfully converted {cat_dir} to yolov8 annotation format.\")\n",
    "    print(f\"Finished conversion of {source_dir} to yolov8 annotation format.\")"
   ],
   "id": "4adcfcc53613979d",
   "outputs": [],
   "execution_count": 100
  },
  {
   "metadata": {},
   "cell_type": "code",
   "outputs": [],
   "execution_count": 83,
   "source": [
    "def compare_file_counts(src_dir, agg_dir, yolo_dir, main_class) -> None:\n",
    "    init_cnt, post_cnt, yolo_cnt = 0, 0, 0\n",
    "    for src_subdir in os.listdir(src_dir):\n",
    "        if src_subdir.startswith(main_class) or src_subdir.endswith(main_class):\n",
    "            subdir_path = os.path.join(src_dir, src_subdir)\n",
    "            for file in os.listdir(subdir_path):\n",
    "                if file.endswith(\".jpg\"):\n",
    "                    init_cnt += 1\n",
    "    for agg_subdir in os.listdir(agg_dir):\n",
    "        if agg_subdir.startswith(main_class) or agg_subdir.endswith(main_class):\n",
    "            subdir_path = os.path.join(agg_dir, agg_subdir)\n",
    "            for file in os.listdir(subdir_path):\n",
    "                if file.endswith(\".jpg\"):\n",
    "                    post_cnt += 1\n",
    "                    \n",
    "    for yolo_file in os.listdir(yolo_dir + \"/train/images/\"):\n",
    "        if yolo_file.endswith(\".jpg\"):\n",
    "            yolo_cnt += 1\n",
    "            \n",
    "    print(f\"Pre-aggregation: {init_cnt}, Post-aggregation: {post_cnt}, Post-conversion: {yolo_cnt}\")"
   ],
   "id": "392fee3941db06c0"
  },
  {
   "metadata": {},
   "cell_type": "markdown",
   "source": "# Conversion of BCS data",
   "id": "3af426f78c1a7f75"
  },
  {
   "metadata": {},
   "cell_type": "code",
   "outputs": [
    {
     "ename": "FileExistsError",
     "evalue": "[Errno 17] File exists: 'data/RF_sorted_data/BCS/BCS-1.25'",
     "output_type": "error",
     "traceback": [
      "\u001B[0;31m---------------------------------------------------------------------------\u001B[0m",
      "\u001B[0;31mFileExistsError\u001B[0m                           Traceback (most recent call last)",
      "Cell \u001B[0;32mIn[54], line 1\u001B[0m\n\u001B[0;32m----> 1\u001B[0m \u001B[43maggregate_class_folders\u001B[49m\u001B[43m(\u001B[49m\u001B[43mSOURCE_DATA_DIR\u001B[49m\u001B[43m,\u001B[49m\u001B[43m \u001B[49m\u001B[43mBCS_OUT_DIR\u001B[49m\u001B[43m,\u001B[49m\u001B[43m \u001B[49m\u001B[43mmain_class\u001B[49m\u001B[38;5;241;43m=\u001B[39;49m\u001B[38;5;124;43m'\u001B[39;49m\u001B[38;5;124;43mBCS\u001B[39;49m\u001B[38;5;124;43m'\u001B[39;49m\u001B[43m)\u001B[49m\n",
      "Cell \u001B[0;32mIn[24], line 4\u001B[0m, in \u001B[0;36maggregate_class_folders\u001B[0;34m(source_dir, target_dir, main_class)\u001B[0m\n\u001B[1;32m      2\u001B[0m \u001B[38;5;28;01mfor\u001B[39;00m subdir \u001B[38;5;129;01min\u001B[39;00m os\u001B[38;5;241m.\u001B[39mlistdir(source_dir):\n\u001B[1;32m      3\u001B[0m     \u001B[38;5;28;01mif\u001B[39;00m subdir\u001B[38;5;241m.\u001B[39mstartswith(main_class):\n\u001B[0;32m----> 4\u001B[0m         \u001B[43mshutil\u001B[49m\u001B[38;5;241;43m.\u001B[39;49m\u001B[43mcopytree\u001B[49m\u001B[43m(\u001B[49m\u001B[43mos\u001B[49m\u001B[38;5;241;43m.\u001B[39;49m\u001B[43mpath\u001B[49m\u001B[38;5;241;43m.\u001B[39;49m\u001B[43mjoin\u001B[49m\u001B[43m(\u001B[49m\u001B[43msource_dir\u001B[49m\u001B[43m,\u001B[49m\u001B[43m \u001B[49m\u001B[43msubdir\u001B[49m\u001B[43m)\u001B[49m\u001B[43m,\u001B[49m\u001B[43m \u001B[49m\u001B[43mos\u001B[49m\u001B[38;5;241;43m.\u001B[39;49m\u001B[43mpath\u001B[49m\u001B[38;5;241;43m.\u001B[39;49m\u001B[43mjoin\u001B[49m\u001B[43m(\u001B[49m\u001B[43mtarget_dir\u001B[49m\u001B[43m,\u001B[49m\u001B[43m \u001B[49m\u001B[43msubdir\u001B[49m\u001B[43m)\u001B[49m\u001B[43m)\u001B[49m\n\u001B[1;32m      5\u001B[0m         \u001B[38;5;28mprint\u001B[39m(\u001B[38;5;124mf\u001B[39m\u001B[38;5;124m'\u001B[39m\u001B[38;5;124mCopied \u001B[39m\u001B[38;5;132;01m{\u001B[39;00msubdir\u001B[38;5;132;01m}\u001B[39;00m\u001B[38;5;124m to \u001B[39m\u001B[38;5;132;01m{\u001B[39;00mtarget_dir\u001B[38;5;132;01m}\u001B[39;00m\u001B[38;5;124m'\u001B[39m)\n",
      "File \u001B[0;32m~/miniconda3/lib/python3.11/shutil.py:573\u001B[0m, in \u001B[0;36mcopytree\u001B[0;34m(src, dst, symlinks, ignore, copy_function, ignore_dangling_symlinks, dirs_exist_ok)\u001B[0m\n\u001B[1;32m    571\u001B[0m \u001B[38;5;28;01mwith\u001B[39;00m os\u001B[38;5;241m.\u001B[39mscandir(src) \u001B[38;5;28;01mas\u001B[39;00m itr:\n\u001B[1;32m    572\u001B[0m     entries \u001B[38;5;241m=\u001B[39m \u001B[38;5;28mlist\u001B[39m(itr)\n\u001B[0;32m--> 573\u001B[0m \u001B[38;5;28;01mreturn\u001B[39;00m \u001B[43m_copytree\u001B[49m\u001B[43m(\u001B[49m\u001B[43mentries\u001B[49m\u001B[38;5;241;43m=\u001B[39;49m\u001B[43mentries\u001B[49m\u001B[43m,\u001B[49m\u001B[43m \u001B[49m\u001B[43msrc\u001B[49m\u001B[38;5;241;43m=\u001B[39;49m\u001B[43msrc\u001B[49m\u001B[43m,\u001B[49m\u001B[43m \u001B[49m\u001B[43mdst\u001B[49m\u001B[38;5;241;43m=\u001B[39;49m\u001B[43mdst\u001B[49m\u001B[43m,\u001B[49m\u001B[43m \u001B[49m\u001B[43msymlinks\u001B[49m\u001B[38;5;241;43m=\u001B[39;49m\u001B[43msymlinks\u001B[49m\u001B[43m,\u001B[49m\n\u001B[1;32m    574\u001B[0m \u001B[43m                 \u001B[49m\u001B[43mignore\u001B[49m\u001B[38;5;241;43m=\u001B[39;49m\u001B[43mignore\u001B[49m\u001B[43m,\u001B[49m\u001B[43m \u001B[49m\u001B[43mcopy_function\u001B[49m\u001B[38;5;241;43m=\u001B[39;49m\u001B[43mcopy_function\u001B[49m\u001B[43m,\u001B[49m\n\u001B[1;32m    575\u001B[0m \u001B[43m                 \u001B[49m\u001B[43mignore_dangling_symlinks\u001B[49m\u001B[38;5;241;43m=\u001B[39;49m\u001B[43mignore_dangling_symlinks\u001B[49m\u001B[43m,\u001B[49m\n\u001B[1;32m    576\u001B[0m \u001B[43m                 \u001B[49m\u001B[43mdirs_exist_ok\u001B[49m\u001B[38;5;241;43m=\u001B[39;49m\u001B[43mdirs_exist_ok\u001B[49m\u001B[43m)\u001B[49m\n",
      "File \u001B[0;32m~/miniconda3/lib/python3.11/shutil.py:471\u001B[0m, in \u001B[0;36m_copytree\u001B[0;34m(entries, src, dst, symlinks, ignore, copy_function, ignore_dangling_symlinks, dirs_exist_ok)\u001B[0m\n\u001B[1;32m    468\u001B[0m \u001B[38;5;28;01melse\u001B[39;00m:\n\u001B[1;32m    469\u001B[0m     ignored_names \u001B[38;5;241m=\u001B[39m ()\n\u001B[0;32m--> 471\u001B[0m \u001B[43mos\u001B[49m\u001B[38;5;241;43m.\u001B[39;49m\u001B[43mmakedirs\u001B[49m\u001B[43m(\u001B[49m\u001B[43mdst\u001B[49m\u001B[43m,\u001B[49m\u001B[43m \u001B[49m\u001B[43mexist_ok\u001B[49m\u001B[38;5;241;43m=\u001B[39;49m\u001B[43mdirs_exist_ok\u001B[49m\u001B[43m)\u001B[49m\n\u001B[1;32m    472\u001B[0m errors \u001B[38;5;241m=\u001B[39m []\n\u001B[1;32m    473\u001B[0m use_srcentry \u001B[38;5;241m=\u001B[39m copy_function \u001B[38;5;129;01mis\u001B[39;00m copy2 \u001B[38;5;129;01mor\u001B[39;00m copy_function \u001B[38;5;129;01mis\u001B[39;00m copy\n",
      "File \u001B[0;32m<frozen os>:225\u001B[0m, in \u001B[0;36mmakedirs\u001B[0;34m(name, mode, exist_ok)\u001B[0m\n",
      "\u001B[0;31mFileExistsError\u001B[0m: [Errno 17] File exists: 'data/RF_sorted_data/BCS/BCS-1.25'"
     ]
    }
   ],
   "execution_count": 54,
   "source": "aggregate_class_folders(SOURCE_DATA_DIR, BCS_OUT_DIR, main_class='BCS')",
   "id": "f6546add38556af7"
  },
  {
   "metadata": {
    "ExecuteTime": {
     "end_time": "2024-07-20T09:43:08.856068Z",
     "start_time": "2024-07-20T09:43:08.836224Z"
    }
   },
   "cell_type": "code",
   "source": "reformat_coco_annots(BCS_OUT_DIR, BCS_YOLO_DIR)",
   "id": "cdc28419d31efdfb",
   "outputs": [
    {
     "name": "stdout",
     "output_type": "stream",
     "text": [
      "Successfully converted BCS-1.25 to yolov8 annotation format.\n",
      "Successfully converted BCS-1 to yolov8 annotation format.\n",
      "Successfully converted BCS-4.75 to yolov8 annotation format.\n",
      "Successfully converted BCS-4 to yolov8 annotation format.\n",
      "Successfully converted BCS-1.5 to yolov8 annotation format.\n",
      "Successfully converted BCS-2.75 to yolov8 annotation format.\n",
      "Successfully converted BCS-4.25 to yolov8 annotation format.\n",
      "Successfully converted BCS-2 to yolov8 annotation format.\n",
      "Successfully converted BCS-4.5 to yolov8 annotation format.\n",
      "Successfully converted BCS-2.5 to yolov8 annotation format.\n",
      "Successfully converted BCS-1.75 to yolov8 annotation format.\n",
      "Successfully converted BCS-3 to yolov8 annotation format.\n",
      "Successfully converted BCS-3.75 to yolov8 annotation format.\n",
      "Successfully converted BCS-2.25 to yolov8 annotation format.\n",
      "Successfully converted BCS-3.25 to yolov8 annotation format.\n",
      "Successfully converted BCS-3.5 to yolov8 annotation format.\n",
      "Finished conversion of data/RF_sorted_data/BCS to yolov8 annotation format.\n"
     ]
    }
   ],
   "execution_count": 101
  },
  {
   "metadata": {
    "ExecuteTime": {
     "end_time": "2024-07-20T09:43:10.716823Z",
     "start_time": "2024-07-20T09:43:10.713894Z"
    }
   },
   "cell_type": "code",
   "source": "compare_file_counts(SOURCE_DATA_DIR, BCS_OUT_DIR, BCS_YOLO_DIR, main_class='BCS')",
   "id": "bba12d834cb898c5",
   "outputs": [
    {
     "name": "stdout",
     "output_type": "stream",
     "text": [
      "Pre-aggregation: 100, Post-aggregation: 100, Post-conversion: 100\n"
     ]
    }
   ],
   "execution_count": 102
  },
  {
   "metadata": {},
   "cell_type": "markdown",
   "source": "# Conversion of Type of Udder data",
   "id": "a22e6c23dad4e63d"
  },
  {
   "metadata": {
    "ExecuteTime": {
     "end_time": "2024-07-20T09:11:05.734629Z",
     "start_time": "2024-07-20T09:11:05.712106Z"
    }
   },
   "cell_type": "code",
   "source": "aggregate_class_folders(SOURCE_DATA_DIR, UTYPE_OUT_DIR, main_class='-Udder')",
   "id": "fa59d6d79c66e564",
   "outputs": [
    {
     "ename": "FileExistsError",
     "evalue": "[Errno 17] File exists: 'data/RF_sorted_data/UdderType/Moderately-Pendulous-Udder'",
     "output_type": "error",
     "traceback": [
      "\u001B[0;31m---------------------------------------------------------------------------\u001B[0m",
      "\u001B[0;31mFileExistsError\u001B[0m                           Traceback (most recent call last)",
      "Cell \u001B[0;32mIn[61], line 1\u001B[0m\n\u001B[0;32m----> 1\u001B[0m \u001B[43maggregate_class_folders\u001B[49m\u001B[43m(\u001B[49m\u001B[43mSOURCE_DATA_DIR\u001B[49m\u001B[43m,\u001B[49m\u001B[43m \u001B[49m\u001B[43mUTYPE_OUT_DIR\u001B[49m\u001B[43m,\u001B[49m\u001B[43m \u001B[49m\u001B[43mmain_class\u001B[49m\u001B[38;5;241;43m=\u001B[39;49m\u001B[38;5;124;43m'\u001B[39;49m\u001B[38;5;124;43m-Udder\u001B[39;49m\u001B[38;5;124;43m'\u001B[39;49m\u001B[43m)\u001B[49m\n",
      "Cell \u001B[0;32mIn[55], line 6\u001B[0m, in \u001B[0;36maggregate_class_folders\u001B[0;34m(source_dir, target_dir, main_class)\u001B[0m\n\u001B[1;32m      4\u001B[0m \u001B[38;5;28;01mfor\u001B[39;00m subdir \u001B[38;5;129;01min\u001B[39;00m os\u001B[38;5;241m.\u001B[39mlistdir(source_dir):\n\u001B[1;32m      5\u001B[0m     \u001B[38;5;28;01mif\u001B[39;00m subdir\u001B[38;5;241m.\u001B[39mstartswith(main_class) \u001B[38;5;129;01mor\u001B[39;00m subdir\u001B[38;5;241m.\u001B[39mendswith(main_class):\n\u001B[0;32m----> 6\u001B[0m         \u001B[43mshutil\u001B[49m\u001B[38;5;241;43m.\u001B[39;49m\u001B[43mcopytree\u001B[49m\u001B[43m(\u001B[49m\u001B[43mos\u001B[49m\u001B[38;5;241;43m.\u001B[39;49m\u001B[43mpath\u001B[49m\u001B[38;5;241;43m.\u001B[39;49m\u001B[43mjoin\u001B[49m\u001B[43m(\u001B[49m\u001B[43msource_dir\u001B[49m\u001B[43m,\u001B[49m\u001B[43m \u001B[49m\u001B[43msubdir\u001B[49m\u001B[43m)\u001B[49m\u001B[43m,\u001B[49m\u001B[43m \u001B[49m\u001B[43mos\u001B[49m\u001B[38;5;241;43m.\u001B[39;49m\u001B[43mpath\u001B[49m\u001B[38;5;241;43m.\u001B[39;49m\u001B[43mjoin\u001B[49m\u001B[43m(\u001B[49m\u001B[43mtarget_dir\u001B[49m\u001B[43m,\u001B[49m\u001B[43m \u001B[49m\u001B[43msubdir\u001B[49m\u001B[43m)\u001B[49m\u001B[43m)\u001B[49m\n\u001B[1;32m      7\u001B[0m         \u001B[38;5;28mprint\u001B[39m(\u001B[38;5;124mf\u001B[39m\u001B[38;5;124m'\u001B[39m\u001B[38;5;124mCopied \u001B[39m\u001B[38;5;132;01m{\u001B[39;00msubdir\u001B[38;5;132;01m}\u001B[39;00m\u001B[38;5;124m to \u001B[39m\u001B[38;5;132;01m{\u001B[39;00mtarget_dir\u001B[38;5;132;01m}\u001B[39;00m\u001B[38;5;124m'\u001B[39m)\n",
      "File \u001B[0;32m~/miniconda3/lib/python3.11/shutil.py:573\u001B[0m, in \u001B[0;36mcopytree\u001B[0;34m(src, dst, symlinks, ignore, copy_function, ignore_dangling_symlinks, dirs_exist_ok)\u001B[0m\n\u001B[1;32m    571\u001B[0m \u001B[38;5;28;01mwith\u001B[39;00m os\u001B[38;5;241m.\u001B[39mscandir(src) \u001B[38;5;28;01mas\u001B[39;00m itr:\n\u001B[1;32m    572\u001B[0m     entries \u001B[38;5;241m=\u001B[39m \u001B[38;5;28mlist\u001B[39m(itr)\n\u001B[0;32m--> 573\u001B[0m \u001B[38;5;28;01mreturn\u001B[39;00m \u001B[43m_copytree\u001B[49m\u001B[43m(\u001B[49m\u001B[43mentries\u001B[49m\u001B[38;5;241;43m=\u001B[39;49m\u001B[43mentries\u001B[49m\u001B[43m,\u001B[49m\u001B[43m \u001B[49m\u001B[43msrc\u001B[49m\u001B[38;5;241;43m=\u001B[39;49m\u001B[43msrc\u001B[49m\u001B[43m,\u001B[49m\u001B[43m \u001B[49m\u001B[43mdst\u001B[49m\u001B[38;5;241;43m=\u001B[39;49m\u001B[43mdst\u001B[49m\u001B[43m,\u001B[49m\u001B[43m \u001B[49m\u001B[43msymlinks\u001B[49m\u001B[38;5;241;43m=\u001B[39;49m\u001B[43msymlinks\u001B[49m\u001B[43m,\u001B[49m\n\u001B[1;32m    574\u001B[0m \u001B[43m                 \u001B[49m\u001B[43mignore\u001B[49m\u001B[38;5;241;43m=\u001B[39;49m\u001B[43mignore\u001B[49m\u001B[43m,\u001B[49m\u001B[43m \u001B[49m\u001B[43mcopy_function\u001B[49m\u001B[38;5;241;43m=\u001B[39;49m\u001B[43mcopy_function\u001B[49m\u001B[43m,\u001B[49m\n\u001B[1;32m    575\u001B[0m \u001B[43m                 \u001B[49m\u001B[43mignore_dangling_symlinks\u001B[49m\u001B[38;5;241;43m=\u001B[39;49m\u001B[43mignore_dangling_symlinks\u001B[49m\u001B[43m,\u001B[49m\n\u001B[1;32m    576\u001B[0m \u001B[43m                 \u001B[49m\u001B[43mdirs_exist_ok\u001B[49m\u001B[38;5;241;43m=\u001B[39;49m\u001B[43mdirs_exist_ok\u001B[49m\u001B[43m)\u001B[49m\n",
      "File \u001B[0;32m~/miniconda3/lib/python3.11/shutil.py:471\u001B[0m, in \u001B[0;36m_copytree\u001B[0;34m(entries, src, dst, symlinks, ignore, copy_function, ignore_dangling_symlinks, dirs_exist_ok)\u001B[0m\n\u001B[1;32m    468\u001B[0m \u001B[38;5;28;01melse\u001B[39;00m:\n\u001B[1;32m    469\u001B[0m     ignored_names \u001B[38;5;241m=\u001B[39m ()\n\u001B[0;32m--> 471\u001B[0m \u001B[43mos\u001B[49m\u001B[38;5;241;43m.\u001B[39;49m\u001B[43mmakedirs\u001B[49m\u001B[43m(\u001B[49m\u001B[43mdst\u001B[49m\u001B[43m,\u001B[49m\u001B[43m \u001B[49m\u001B[43mexist_ok\u001B[49m\u001B[38;5;241;43m=\u001B[39;49m\u001B[43mdirs_exist_ok\u001B[49m\u001B[43m)\u001B[49m\n\u001B[1;32m    472\u001B[0m errors \u001B[38;5;241m=\u001B[39m []\n\u001B[1;32m    473\u001B[0m use_srcentry \u001B[38;5;241m=\u001B[39m copy_function \u001B[38;5;129;01mis\u001B[39;00m copy2 \u001B[38;5;129;01mor\u001B[39;00m copy_function \u001B[38;5;129;01mis\u001B[39;00m copy\n",
      "File \u001B[0;32m<frozen os>:225\u001B[0m, in \u001B[0;36mmakedirs\u001B[0;34m(name, mode, exist_ok)\u001B[0m\n",
      "\u001B[0;31mFileExistsError\u001B[0m: [Errno 17] File exists: 'data/RF_sorted_data/UdderType/Moderately-Pendulous-Udder'"
     ]
    }
   ],
   "execution_count": 61
  },
  {
   "metadata": {
    "ExecuteTime": {
     "end_time": "2024-07-20T09:43:14.216341Z",
     "start_time": "2024-07-20T09:43:14.178631Z"
    }
   },
   "cell_type": "code",
   "source": "reformat_coco_annots(UTYPE_OUT_DIR, UTYPE_YOLO_DIR)",
   "id": "4edc778e25fbcf29",
   "outputs": [
    {
     "name": "stdout",
     "output_type": "stream",
     "text": [
      "Successfully converted Moderately-Pendulous-Udder to yolov8 annotation format.\n",
      "Successfully converted Compact-Udder to yolov8 annotation format.\n",
      "Successfully converted Pendulous-Udder to yolov8 annotation format.\n",
      "Successfully converted Small-Tight-Udder to yolov8 annotation format.\n",
      "Finished conversion of data/RF_sorted_data/UdderType to yolov8 annotation format.\n"
     ]
    }
   ],
   "execution_count": 103
  },
  {
   "metadata": {
    "ExecuteTime": {
     "end_time": "2024-07-20T09:43:14.896685Z",
     "start_time": "2024-07-20T09:43:14.893190Z"
    }
   },
   "cell_type": "code",
   "source": "compare_file_counts(SOURCE_DATA_DIR, UTYPE_OUT_DIR, UTYPE_YOLO_DIR, main_class='-Udder')",
   "id": "293bdfe2f5f53352",
   "outputs": [
    {
     "name": "stdout",
     "output_type": "stream",
     "text": [
      "Pre-aggregation: 84, Post-aggregation: 84, Post-conversion: 84\n"
     ]
    }
   ],
   "execution_count": 104
  },
  {
   "metadata": {},
   "cell_type": "markdown",
   "source": "# Conversion of Cleft data",
   "id": "a57880b0a883cb90"
  },
  {
   "metadata": {
    "ExecuteTime": {
     "end_time": "2024-07-20T09:24:38.164389Z",
     "start_time": "2024-07-20T09:24:38.124859Z"
    }
   },
   "cell_type": "code",
   "source": "aggregate_class_folders(SOURCE_DATA_DIR, CLEFT_OUT_DIR, main_class='Clefted')",
   "id": "d14201441602f166",
   "outputs": [
    {
     "name": "stdout",
     "output_type": "stream",
     "text": [
      "Copied Moderately-Clefted to data/RF_sorted_data/Cleft\n",
      "Copied Slightly-Clefted to data/RF_sorted_data/Cleft\n",
      "Copied Deep-Clefted to data/RF_sorted_data/Cleft\n"
     ]
    }
   ],
   "execution_count": 68
  },
  {
   "metadata": {
    "ExecuteTime": {
     "end_time": "2024-07-20T09:43:18.466216Z",
     "start_time": "2024-07-20T09:43:18.439830Z"
    }
   },
   "cell_type": "code",
   "source": "reformat_coco_annots(CLEFT_OUT_DIR, CLEFT_YOLO_DIR)",
   "id": "ff2607983bfb4c11",
   "outputs": [
    {
     "name": "stdout",
     "output_type": "stream",
     "text": [
      "Successfully converted Moderately-Clefted to yolov8 annotation format.\n",
      "Successfully converted Slightly-Clefted to yolov8 annotation format.\n",
      "Successfully converted Deep-Clefted to yolov8 annotation format.\n",
      "Finished conversion of data/RF_sorted_data/Cleft to yolov8 annotation format.\n"
     ]
    }
   ],
   "execution_count": 105
  },
  {
   "metadata": {
    "ExecuteTime": {
     "end_time": "2024-07-20T09:43:19.748839Z",
     "start_time": "2024-07-20T09:43:19.745148Z"
    }
   },
   "cell_type": "code",
   "source": "compare_file_counts(SOURCE_DATA_DIR, CLEFT_OUT_DIR, CLEFT_YOLO_DIR, main_class=\"Clefted\")",
   "id": "5676d4c1b7034bf",
   "outputs": [
    {
     "name": "stdout",
     "output_type": "stream",
     "text": [
      "Pre-aggregation: 115, Post-aggregation: 115, Post-conversion: 115\n"
     ]
    }
   ],
   "execution_count": 106
  },
  {
   "metadata": {},
   "cell_type": "markdown",
   "source": "# Conversion of Teat Score data",
   "id": "775733561593f537"
  },
  {
   "metadata": {
    "ExecuteTime": {
     "end_time": "2024-07-20T09:38:13.024527Z",
     "start_time": "2024-07-20T09:38:12.981198Z"
    }
   },
   "cell_type": "code",
   "source": "aggregate_class_folders(SOURCE_DATA_DIR, TSCORE_OUT_DIR, main_class=\"Teat-Score\")",
   "id": "bbb2e812fbd7a190",
   "outputs": [
    {
     "name": "stdout",
     "output_type": "stream",
     "text": [
      "Copied Teat-Score-5 to data/RF_sorted_data/TScore\n",
      "Copied Teat-Score-7 to data/RF_sorted_data/TScore\n",
      "Copied Teat-Score-3 to data/RF_sorted_data/TScore\n",
      "Copied Teat-Score-9 to data/RF_sorted_data/TScore\n"
     ]
    }
   ],
   "execution_count": 87
  },
  {
   "metadata": {
    "ExecuteTime": {
     "end_time": "2024-07-20T09:43:24.033351Z",
     "start_time": "2024-07-20T09:43:23.982691Z"
    }
   },
   "cell_type": "code",
   "source": "reformat_coco_annots(TSCORE_OUT_DIR, TSCORE_YOLO_DIR)",
   "id": "cdb133958d573a0",
   "outputs": [
    {
     "name": "stdout",
     "output_type": "stream",
     "text": [
      "Successfully converted Teat-Score-5 to yolov8 annotation format.\n",
      "Successfully converted Teat-Score-7 to yolov8 annotation format.\n",
      "Successfully converted Teat-Score-3 to yolov8 annotation format.\n",
      "Successfully converted Teat-Score-9 to yolov8 annotation format.\n",
      "Finished conversion of data/RF_sorted_data/TScore to yolov8 annotation format.\n"
     ]
    }
   ],
   "execution_count": 107
  },
  {
   "metadata": {
    "ExecuteTime": {
     "end_time": "2024-07-20T09:43:27.368271Z",
     "start_time": "2024-07-20T09:43:27.364542Z"
    }
   },
   "cell_type": "code",
   "source": "compare_file_counts(SOURCE_DATA_DIR, TSCORE_OUT_DIR, TSCORE_YOLO_DIR, main_class=\"Teat-Score\")",
   "id": "6ce4e7edf49eedb4",
   "outputs": [
    {
     "name": "stdout",
     "output_type": "stream",
     "text": [
      "Pre-aggregation: 117, Post-aggregation: 117, Post-conversion: 117\n"
     ]
    }
   ],
   "execution_count": 108
  },
  {
   "metadata": {},
   "cell_type": "markdown",
   "source": "# Conversion of Cow Breed data",
   "id": "a80b7edeb95d0a65"
  },
  {
   "metadata": {
    "ExecuteTime": {
     "end_time": "2024-07-20T09:48:11.509148Z",
     "start_time": "2024-07-20T09:48:11.491427Z"
    }
   },
   "cell_type": "code",
   "source": "aggregate_class_folders(SOURCE_DATA_DIR, BREED_OUT_DIR, main_class='-Cow')",
   "id": "5b8d91d59fdb1795",
   "outputs": [
    {
     "name": "stdout",
     "output_type": "stream",
     "text": [
      "Copied Hallikar-Cow to data/RF_sorted_data/CowBreed\n",
      "Copied HF-Crossbreed-Cow to data/RF_sorted_data/CowBreed\n",
      "Copied Non-Descript-Breed-Cow to data/RF_sorted_data/CowBreed\n",
      "Copied Jersey-Crossbreed-Cow to data/RF_sorted_data/CowBreed\n",
      "Copied Gir-Cow to data/RF_sorted_data/CowBreed\n"
     ]
    }
   ],
   "execution_count": 115
  },
  {
   "metadata": {
    "ExecuteTime": {
     "end_time": "2024-07-20T09:48:12.429133Z",
     "start_time": "2024-07-20T09:48:12.411842Z"
    }
   },
   "cell_type": "code",
   "source": "reformat_coco_annots(BREED_OUT_DIR, BREED_YOLO_DIR)",
   "id": "7543c160ab56e4d6",
   "outputs": [
    {
     "name": "stdout",
     "output_type": "stream",
     "text": [
      "Successfully converted Hallikar-Cow to yolov8 annotation format.\n",
      "Successfully converted HF-Crossbreed-Cow to yolov8 annotation format.\n",
      "Successfully converted Non-Descript-Breed-Cow to yolov8 annotation format.\n",
      "Successfully converted Jersey-Crossbreed-Cow to yolov8 annotation format.\n",
      "Successfully converted Gir-Cow to yolov8 annotation format.\n",
      "Finished conversion of data/RF_sorted_data/CowBreed to yolov8 annotation format.\n"
     ]
    }
   ],
   "execution_count": 116
  },
  {
   "metadata": {
    "ExecuteTime": {
     "end_time": "2024-07-20T09:48:15.200689Z",
     "start_time": "2024-07-20T09:48:15.197547Z"
    }
   },
   "cell_type": "code",
   "source": "compare_file_counts(SOURCE_DATA_DIR, BREED_OUT_DIR, BREED_YOLO_DIR, main_class='Cow')",
   "id": "f454371cff2315ba",
   "outputs": [
    {
     "name": "stdout",
     "output_type": "stream",
     "text": [
      "Pre-aggregation: 105, Post-aggregation: 105, Post-conversion: 105\n"
     ]
    }
   ],
   "execution_count": 117
  }
 ],
 "metadata": {
  "kernelspec": {
   "display_name": "Python 3",
   "language": "python",
   "name": "python3"
  },
  "language_info": {
   "codemirror_mode": {
    "name": "ipython",
    "version": 2
   },
   "file_extension": ".py",
   "mimetype": "text/x-python",
   "name": "python",
   "nbconvert_exporter": "python",
   "pygments_lexer": "ipython2",
   "version": "2.7.6"
  }
 },
 "nbformat": 4,
 "nbformat_minor": 5
}
