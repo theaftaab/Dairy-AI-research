{
 "cells": [
  {
   "cell_type": "code",
   "id": "initial_id",
   "metadata": {
    "collapsed": true,
    "ExecuteTime": {
     "end_time": "2024-07-13T03:16:27.867651Z",
     "start_time": "2024-07-13T03:16:27.864223Z"
    }
   },
   "source": "import os",
   "outputs": [],
   "execution_count": 3
  },
  {
   "metadata": {
    "ExecuteTime": {
     "end_time": "2024-07-13T03:22:46.845435Z",
     "start_time": "2024-07-13T03:22:46.840831Z"
    }
   },
   "cell_type": "code",
   "source": [
    "screened_rear = 'data/usable/Screened Data/Rear'\n",
    "screened_side = 'data/usable/Screened Data/Side'"
   ],
   "id": "3ae39eee1dc3c2b",
   "outputs": [],
   "execution_count": 10
  },
  {
   "metadata": {
    "ExecuteTime": {
     "end_time": "2024-07-13T03:22:48.045658Z",
     "start_time": "2024-07-13T03:22:48.042Z"
    }
   },
   "cell_type": "code",
   "source": [
    "def rename_files(*directory):\n",
    "    for subdir in directory:\n",
    "        for filename in os.listdir(subdir):\n",
    "            if filename.startswith(\"Copy of \"):\n",
    "                new_name = filename.replace(\"Copy of \", \"\")\n",
    "                os.rename(os.path.join(subdir, filename), os.path.join(subdir, new_name))\n",
    "    \n",
    "    print(\"All files renamed\")"
   ],
   "id": "2611080591ea49e7",
   "outputs": [],
   "execution_count": 11
  },
  {
   "metadata": {
    "ExecuteTime": {
     "end_time": "2024-07-13T03:22:54.909715Z",
     "start_time": "2024-07-13T03:22:54.905114Z"
    }
   },
   "cell_type": "code",
   "source": "rename_files(screened_rear, screened_side)",
   "id": "3d8e7e0f85364257",
   "outputs": [
    {
     "name": "stdout",
     "output_type": "stream",
     "text": [
      "All files renamed\n"
     ]
    }
   ],
   "execution_count": 12
  },
  {
   "metadata": {
    "ExecuteTime": {
     "end_time": "2024-07-13T03:23:51.217089Z",
     "start_time": "2024-07-13T03:23:51.212484Z"
    }
   },
   "cell_type": "code",
   "source": "os.listdir(screened_side)",
   "id": "9e44a86732b5e008",
   "outputs": [
    {
     "data": {
      "text/plain": [
       "['WhatsApp Image 2024-07-03 at 1.23.09 PM.jpeg',\n",
       " 'WhatsApp Image 2024-07-03 at 1.42.35 PM (1).jpeg',\n",
       " 'WhatsApp Image 2024-07-03 at 1.41.25 PM (1).jpeg',\n",
       " 'WhatsApp Image 2024-07-03 at 1.41.29 PM.jpeg',\n",
       " 'WhatsApp Image 2024-07-03 at 1.42.41 PM.jpeg',\n",
       " 'WhatsApp Image 2024-07-03 at 1.43.21 PM (1).jpeg',\n",
       " 'WhatsApp Image 2024-07-03 at 1.43.07 PM.jpeg',\n",
       " 'WhatsApp Image 2024-07-03 at 1.43.13 PM (2).jpeg',\n",
       " 'WhatsApp Image 2024-07-03 at 1.41.56 PM (2).jpeg',\n",
       " 'WhatsApp Image 2024-07-03 at 1.42.10 PM.jpeg',\n",
       " 'WhatsApp Image 2024-07-03 at 1.42.57 PM.jpeg',\n",
       " 'WhatsApp Image 2024-07-03 at 1.43.26 PM (1).jpeg',\n",
       " 'WhatsApp Image 2024-07-03 at 1.42.12 PM (2).jpeg',\n",
       " 'WhatsApp Image 2024-07-03 at 1.42.34 PM.jpeg',\n",
       " 'WhatsApp Image 2024-07-03 at 1.42.37 PM.jpeg',\n",
       " 'WhatsApp Image 2024-07-03 at 1.23.40 PM.jpeg',\n",
       " 'WhatsApp Image 2024-07-03 at 1.13.32 PM (1).jpeg',\n",
       " 'WhatsApp Image 2024-07-03 at 1.42.37 PM (2).jpeg',\n",
       " 'WhatsApp Image 2024-07-03 at 1.23.23 PM.jpeg',\n",
       " 'WhatsApp Image 2024-07-03 at 1.13.32 PM(1).jpeg',\n",
       " 'WhatsApp Image 2024-07-03 at 1.41.32 PM (2).jpeg',\n",
       " 'WhatsApp Image 2024-07-03 at 1.42.33 PM.jpeg',\n",
       " 'WhatsApp Image 2024-07-03 at 1.41.55 PM (1).jpeg',\n",
       " 'WhatsApp Image 2024-07-03 at 1.43.45 PM (2).jpeg',\n",
       " 'WhatsApp Image 2024-07-03 at 1.43.03 PM (1).jpeg',\n",
       " 'WhatsApp Image 2024-07-03 at 1.43.11 PM.jpeg',\n",
       " 'WhatsApp Image 2024-07-03 at 1.42.10 PM(1).jpeg',\n",
       " 'WhatsApp Image 2024-07-03 at 1.43.16 PM.jpeg',\n",
       " 'WhatsApp Image 2024-07-03 at 1.43.36 PM (1).jpeg',\n",
       " 'WhatsApp Image 2024-07-03 at 1.41.58 PM (2).jpeg',\n",
       " 'WhatsApp Image 2024-07-03 at 1.43.30 PM.jpeg',\n",
       " 'WhatsApp Image 2024-07-03 at 1.43.10 PM (1).jpeg',\n",
       " 'WhatsApp Image 2024-07-03 at 1.23.37 PM (1).jpeg',\n",
       " 'WhatsApp Image 2024-07-03 at 1.41.54 PM (2).jpeg',\n",
       " 'WhatsApp Image 2024-07-03 at 1.41.54 PM (2)(1).jpeg',\n",
       " 'WhatsApp Image 2024-07-03 at 1.23.37 PM (1)(1).jpeg',\n",
       " 'WhatsApp Image 2024-07-03 at 1.27.08 PM.jpeg',\n",
       " 'WhatsApp Image 2024-07-03 at 1.42.13 PM (2).jpeg',\n",
       " 'WhatsApp Image 2024-07-03 at 1.41.44 PM (1).jpeg',\n",
       " 'WhatsApp Image 2024-07-03 at 1.42.09 PM (1).jpeg',\n",
       " 'WhatsApp Image 2024-07-03 at 1.23.46 PM (1).jpeg',\n",
       " 'WhatsApp Image 2024-07-03 at 1.41.41 PM (2).jpeg',\n",
       " 'WhatsApp Image 2024-07-03 at 1.42.40 PM (1).jpeg',\n",
       " 'WhatsApp Image 2024-07-03 at 1.43.19 PM (2).jpeg',\n",
       " 'WhatsApp Image 2024-07-03 at 1.13.44 PM.jpeg',\n",
       " 'WhatsApp Image 2024-07-03 at 1.42.36 PM.jpeg',\n",
       " 'WhatsApp Image 2024-07-03 at 1.42.30 PM (1).jpeg',\n",
       " 'WhatsApp Image 2024-07-03 at 1.41.58 PM.jpeg',\n",
       " 'WhatsApp Image 2024-07-03 at 1.42.13 PM (1).jpeg',\n",
       " 'WhatsApp Image 2024-07-03 at 1.43.38 PM (2).jpeg',\n",
       " 'WhatsApp Image 2024-07-03 at 1.41.59 PM (2).jpeg',\n",
       " 'WhatsApp Image 2024-07-03 at 1.41.07 PM (1).jpeg',\n",
       " 'WhatsApp Image 2024-07-03 at 1.43.08 PM (1).jpeg',\n",
       " 'WhatsApp Image 2024-07-03 at 1.13.32 PM.jpeg',\n",
       " 'WhatsApp Image 2024-07-03 at 1.43.10 PM.jpeg',\n",
       " 'WhatsApp Image 2024-07-03 at 1.43.18 PM.jpeg',\n",
       " 'WhatsApp Image 2024-07-03 at 1.26.46 PM.jpeg',\n",
       " 'WhatsApp Image 2024-07-03 at 1.43.01 PM.jpeg',\n",
       " 'WhatsApp Image 2024-07-03 at 1.41.43 PM.jpeg',\n",
       " 'WhatsApp Image 2024-07-03 at 1.41.09 PM (1).jpeg',\n",
       " 'WhatsApp Image 2024-07-03 at 1.41.32 PM (1).jpeg',\n",
       " 'WhatsApp Image 2024-07-03 at 1.42.42 PM.jpeg',\n",
       " 'WhatsApp Image 2024-07-03 at 1.23.23 PM (1).jpeg',\n",
       " 'WhatsApp Image 2024-07-03 at 1.42.02 PM.jpeg',\n",
       " 'WhatsApp Image 2024-07-03 at 1.43.23 PM (1).jpeg',\n",
       " 'WhatsApp Image 2024-07-03 at 1.42.00 PM (1).jpeg']"
      ]
     },
     "execution_count": 16,
     "metadata": {},
     "output_type": "execute_result"
    }
   ],
   "execution_count": 16
  },
  {
   "metadata": {},
   "cell_type": "code",
   "outputs": [],
   "execution_count": null,
   "source": "",
   "id": "6362054cb4435796"
  }
 ],
 "metadata": {
  "kernelspec": {
   "display_name": "Python 3",
   "language": "python",
   "name": "python3"
  },
  "language_info": {
   "codemirror_mode": {
    "name": "ipython",
    "version": 2
   },
   "file_extension": ".py",
   "mimetype": "text/x-python",
   "name": "python",
   "nbconvert_exporter": "python",
   "pygments_lexer": "ipython2",
   "version": "2.7.6"
  }
 },
 "nbformat": 4,
 "nbformat_minor": 5
}
