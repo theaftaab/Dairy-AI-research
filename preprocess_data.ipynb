{
 "cells": [
  {
   "cell_type": "code",
   "id": "initial_id",
   "metadata": {
    "collapsed": true,
    "ExecuteTime": {
     "end_time": "2024-07-13T03:41:59.314234Z",
     "start_time": "2024-07-13T03:41:59.310198Z"
    }
   },
   "source": [
    "import os\n",
    "import shutil"
   ],
   "outputs": [],
   "execution_count": 21
  },
  {
   "metadata": {
    "ExecuteTime": {
     "end_time": "2024-07-13T03:36:39.229852Z",
     "start_time": "2024-07-13T03:36:39.227789Z"
    }
   },
   "cell_type": "code",
   "source": [
    "screened_rear = 'data/Screened/Rear'\n",
    "screened_side = 'data/Screened/Side'"
   ],
   "id": "3ae39eee1dc3c2b",
   "outputs": [],
   "execution_count": 18
  },
  {
   "metadata": {
    "ExecuteTime": {
     "end_time": "2024-07-13T03:22:48.045658Z",
     "start_time": "2024-07-13T03:22:48.042Z"
    }
   },
   "cell_type": "code",
   "source": [
    "def rename_files(*directory):\n",
    "    for subdir in directory:\n",
    "        for filename in os.listdir(subdir):\n",
    "            if filename.startswith(\"Copy of \"):\n",
    "                new_name = filename.replace(\"Copy of \", \"\")\n",
    "                os.rename(os.path.join(subdir, filename), os.path.join(subdir, new_name))\n",
    "    \n",
    "    print(\"All files renamed\")"
   ],
   "id": "2611080591ea49e7",
   "outputs": [],
   "execution_count": 11
  },
  {
   "metadata": {
    "ExecuteTime": {
     "end_time": "2024-07-13T03:22:54.909715Z",
     "start_time": "2024-07-13T03:22:54.905114Z"
    }
   },
   "cell_type": "code",
   "source": "rename_files(screened_rear, screened_side)",
   "id": "3d8e7e0f85364257",
   "outputs": [
    {
     "name": "stdout",
     "output_type": "stream",
     "text": [
      "All files renamed\n"
     ]
    }
   ],
   "execution_count": 12
  },
  {
   "metadata": {
    "ExecuteTime": {
     "end_time": "2024-07-13T03:36:53.252332Z",
     "start_time": "2024-07-13T03:36:53.249206Z"
    }
   },
   "cell_type": "code",
   "source": "os.listdir(screened_side)[:3], os.listdir(screened_rear)[:3]",
   "id": "9e44a86732b5e008",
   "outputs": [
    {
     "data": {
      "text/plain": [
       "(['WhatsApp Image 2024-07-03 at 1.23.09 PM.jpeg',\n",
       "  'WhatsApp Image 2024-07-03 at 1.42.35 PM (1).jpeg',\n",
       "  'WhatsApp Image 2024-07-03 at 1.41.25 PM (1).jpeg'],\n",
       " ['WhatsApp Image 2024-07-03 at 1.42.21 PM (1).jpeg',\n",
       "  'WhatsApp Image 2024-07-03 at 1.23.44 PM (1).jpeg',\n",
       "  'WhatsApp Image 2024-07-03 at 1.17.38 PM.jpeg'])"
      ]
     },
     "execution_count": 20,
     "metadata": {},
     "output_type": "execute_result"
    }
   ],
   "execution_count": 20
  },
  {
   "metadata": {
    "ExecuteTime": {
     "end_time": "2024-07-13T03:42:56.675031Z",
     "start_time": "2024-07-13T03:42:56.672574Z"
    }
   },
   "cell_type": "code",
   "source": [
    "def copy_files(source, destination):\n",
    "    if not os.path.exists(destination):\n",
    "        os.makedirs(destination)\n",
    "    \n",
    "    for filename in os.listdir(source):\n",
    "        source_file = os.path.join(source, filename)\n",
    "        destination_file = os.path.join(destination, filename)\n",
    "        \n",
    "        if os.path.isfile(source_file):\n",
    "            shutil.copy(source_file, destination_file)\n",
    "    \n",
    "    print(\"Copied all files\")"
   ],
   "id": "6362054cb4435796",
   "outputs": [],
   "execution_count": 22
  },
  {
   "metadata": {
    "ExecuteTime": {
     "end_time": "2024-07-13T03:43:52.295253Z",
     "start_time": "2024-07-13T03:43:52.293374Z"
    }
   },
   "cell_type": "code",
   "source": "usable_files_directory = \"data/usable\"",
   "id": "aaad1ce6a82f3883",
   "outputs": [],
   "execution_count": 23
  },
  {
   "metadata": {
    "ExecuteTime": {
     "end_time": "2024-07-13T03:44:21.113295Z",
     "start_time": "2024-07-13T03:44:21.099306Z"
    }
   },
   "cell_type": "code",
   "source": [
    "copy_files(screened_rear, usable_files_directory)\n",
    "copy_files(screened_side, usable_files_directory)"
   ],
   "id": "4da42eb64cae2a3f",
   "outputs": [
    {
     "name": "stdout",
     "output_type": "stream",
     "text": [
      "Copied all files\n",
      "Copied all files\n"
     ]
    }
   ],
   "execution_count": 24
  },
  {
   "metadata": {
    "ExecuteTime": {
     "end_time": "2024-07-13T03:44:48.240937Z",
     "start_time": "2024-07-13T03:44:48.238164Z"
    }
   },
   "cell_type": "code",
   "source": "os.listdir(usable_files_directory)[:3], os.listdir(usable_files_directory)[-3:]",
   "id": "807616183448a702",
   "outputs": [
    {
     "data": {
      "text/plain": [
       "(['WhatsApp Image 2024-07-03 at 1.23.09 PM.jpeg',\n",
       "  'WhatsApp Image 2024-07-03 at 1.42.35 PM (1).jpeg',\n",
       "  'WhatsApp Image 2024-07-03 at 1.41.25 PM (1).jpeg'],\n",
       " ['WhatsApp Image 2024-07-03 at 1.42.02 PM.jpeg',\n",
       "  'WhatsApp Image 2024-07-03 at 1.43.23 PM (1).jpeg',\n",
       "  'WhatsApp Image 2024-07-03 at 1.42.00 PM (1).jpeg'])"
      ]
     },
     "execution_count": 25,
     "metadata": {},
     "output_type": "execute_result"
    }
   ],
   "execution_count": 25
  },
  {
   "metadata": {},
   "cell_type": "code",
   "outputs": [],
   "execution_count": null,
   "source": "",
   "id": "e49fba8bb44d2a7c"
  }
 ],
 "metadata": {
  "kernelspec": {
   "display_name": "Python 3",
   "language": "python",
   "name": "python3"
  },
  "language_info": {
   "codemirror_mode": {
    "name": "ipython",
    "version": 2
   },
   "file_extension": ".py",
   "mimetype": "text/x-python",
   "name": "python",
   "nbconvert_exporter": "python",
   "pygments_lexer": "ipython2",
   "version": "2.7.6"
  }
 },
 "nbformat": 4,
 "nbformat_minor": 5
}
