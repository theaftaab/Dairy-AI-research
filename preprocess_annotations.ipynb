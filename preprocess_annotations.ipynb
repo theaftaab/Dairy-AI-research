{
 "cells": [
  {
   "cell_type": "code",
   "id": "initial_id",
   "metadata": {
    "collapsed": true,
    "ExecuteTime": {
     "end_time": "2024-07-22T11:31:25.176287Z",
     "start_time": "2024-07-22T11:31:25.170507Z"
    }
   },
   "source": [
    "import os\n",
    "import shutil\n",
    "import json"
   ],
   "outputs": [],
   "execution_count": 1
  },
  {
   "metadata": {
    "ExecuteTime": {
     "end_time": "2024-07-22T11:31:25.909712Z",
     "start_time": "2024-07-22T11:31:25.907128Z"
    }
   },
   "cell_type": "code",
   "source": [
    "TRAIN_DIR = \"data/rflow_data/train/\"\n",
    "TRAIN_ANNOTS = \"data/rflow_data/train/_annotations.coco.json\"\n",
    "SORTED_DIR = \"data/RF_sorted/\""
   ],
   "id": "49cf73d0f527a8ad",
   "outputs": [],
   "execution_count": 2
  },
  {
   "metadata": {
    "ExecuteTime": {
     "end_time": "2024-07-22T11:31:26.571432Z",
     "start_time": "2024-07-22T11:31:26.565782Z"
    }
   },
   "cell_type": "code",
   "source": "len(os.listdir(TRAIN_DIR))",
   "id": "675b50cab80206ad",
   "outputs": [
    {
     "data": {
      "text/plain": [
       "138"
      ]
     },
     "execution_count": 3,
     "metadata": {},
     "output_type": "execute_result"
    }
   ],
   "execution_count": 3
  },
  {
   "metadata": {
    "ExecuteTime": {
     "end_time": "2024-07-22T11:31:28.244599Z",
     "start_time": "2024-07-22T11:31:28.241445Z"
    }
   },
   "cell_type": "code",
   "source": [
    "def read_json(file) -> dict:\n",
    "    \"\"\"\n",
    "    Reads json file and returns python dictionary.\n",
    "        Args: \n",
    "            file(str): path to json file.\n",
    "    \"\"\"\n",
    "    with open(file, 'r') as f:\n",
    "        data = json.load(f)\n",
    "    return data"
   ],
   "id": "a113b53d3ea085ed",
   "outputs": [],
   "execution_count": 4
  },
  {
   "metadata": {
    "ExecuteTime": {
     "end_time": "2024-07-22T11:31:28.821340Z",
     "start_time": "2024-07-22T11:31:28.816943Z"
    }
   },
   "cell_type": "code",
   "source": [
    "rflow_annots = read_json(TRAIN_ANNOTS)\n",
    "rflow_annots.keys()"
   ],
   "id": "7e7e6ab745c5002",
   "outputs": [
    {
     "data": {
      "text/plain": [
       "dict_keys(['info', 'licenses', 'categories', 'images', 'annotations'])"
      ]
     },
     "execution_count": 5,
     "metadata": {},
     "output_type": "execute_result"
    }
   ],
   "execution_count": 5
  },
  {
   "metadata": {
    "ExecuteTime": {
     "end_time": "2024-07-22T11:31:29.437468Z",
     "start_time": "2024-07-22T11:31:29.432758Z"
    }
   },
   "cell_type": "code",
   "source": [
    "num_cats = len(rflow_annots['categories'])\n",
    "num_imgs = len(rflow_annots['images'])\n",
    "num_annots = len(rflow_annots['annotations'])\n",
    "num_cats, num_imgs, num_annots"
   ],
   "id": "af66a753db965c18",
   "outputs": [
    {
     "data": {
      "text/plain": [
       "(48, 137, 1057)"
      ]
     },
     "execution_count": 6,
     "metadata": {},
     "output_type": "execute_result"
    }
   ],
   "execution_count": 6
  },
  {
   "metadata": {
    "ExecuteTime": {
     "end_time": "2024-07-22T11:31:30.068053Z",
     "start_time": "2024-07-22T11:31:30.064338Z"
    }
   },
   "cell_type": "code",
   "source": [
    "def sep_annots_by_category(annots) -> dict:\n",
    "    \"\"\"\n",
    "    Segregates annotation data by category. Returns a python dictionary with key value pairs indicating category-id : annotation.\n",
    "        Args:\n",
    "            annots(dict): Python dictionary containing annotation data to be segregated.\n",
    "    \"\"\"\n",
    "    categories = {}\n",
    "    \n",
    "    for annotation in annots['annotations']:\n",
    "        category_id = annotation['category_id']\n",
    "        \n",
    "        if category_id not in categories:\n",
    "            categories[category_id] = []\n",
    "        \n",
    "        categories[category_id].append(annotation)\n",
    "    return categories"
   ],
   "id": "c816f8fa583730cb",
   "outputs": [],
   "execution_count": 7
  },
  {
   "metadata": {
    "ExecuteTime": {
     "end_time": "2024-07-22T11:31:30.618196Z",
     "start_time": "2024-07-22T11:31:30.614418Z"
    }
   },
   "cell_type": "code",
   "source": [
    "data_by_cat = sep_annots_by_category(rflow_annots)\n",
    "data_by_cat.keys()"
   ],
   "id": "5f8cd0d631a1b834",
   "outputs": [
    {
     "data": {
      "text/plain": [
       "dict_keys([34, 18, 25, 30, 13, 45, 22, 36, 39, 44, 37, 19, 32, 5, 31, 46, 40, 47, 43, 33, 3, 23, 21, 20, 28, 16, 29, 6, 42, 38, 9, 27, 14, 12, 4, 7, 24, 8, 2, 10, 17, 15, 11, 26, 35, 41, 1])"
      ]
     },
     "execution_count": 8,
     "metadata": {},
     "output_type": "execute_result"
    }
   ],
   "execution_count": 8
  },
  {
   "metadata": {
    "ExecuteTime": {
     "end_time": "2024-07-22T11:31:31.207942Z",
     "start_time": "2024-07-22T11:31:31.204354Z"
    }
   },
   "cell_type": "code",
   "source": "data_by_cat[33][0:3]",
   "id": "82046cf8c4695c1a",
   "outputs": [
    {
     "data": {
      "text/plain": [
       "[{'id': 33,\n",
       "  'image_id': 4,\n",
       "  'category_id': 33,\n",
       "  'bbox': [144, 151, 282, 269],\n",
       "  'area': 75858,\n",
       "  'segmentation': [],\n",
       "  'iscrowd': 0},\n",
       " {'id': 48,\n",
       "  'image_id': 7,\n",
       "  'category_id': 33,\n",
       "  'bbox': [106, 186, 387.5, 353],\n",
       "  'area': 136787.5,\n",
       "  'segmentation': [],\n",
       "  'iscrowd': 0},\n",
       " {'id': 139,\n",
       "  'image_id': 17,\n",
       "  'category_id': 33,\n",
       "  'bbox': [133, 110, 421, 405.5],\n",
       "  'area': 170715.5,\n",
       "  'segmentation': [],\n",
       "  'iscrowd': 0}]"
      ]
     },
     "execution_count": 9,
     "metadata": {},
     "output_type": "execute_result"
    }
   ],
   "execution_count": 9
  },
  {
   "metadata": {
    "ExecuteTime": {
     "end_time": "2024-07-22T11:31:31.924136Z",
     "start_time": "2024-07-22T11:31:31.921292Z"
    }
   },
   "cell_type": "code",
   "source": [
    "def create_id2cat(annots) -> dict:\n",
    "    \"\"\"\n",
    "    Returns a python dictionary mapping category_id to their corresponding category name.\n",
    "    Args:\n",
    "        annots(dict): Python dictionary containing annotation data of dataset.\n",
    "    \"\"\"\n",
    "    id2cat = {}\n",
    "    \n",
    "    for category in annots['categories']:\n",
    "        id2cat[category['id']] = category['name']\n",
    "    return id2cat"
   ],
   "id": "c1c0309caaa20d25",
   "outputs": [],
   "execution_count": 10
  },
  {
   "metadata": {
    "ExecuteTime": {
     "end_time": "2024-07-22T11:31:32.636676Z",
     "start_time": "2024-07-22T11:31:32.633213Z"
    }
   },
   "cell_type": "code",
   "source": [
    "rflow_id2cat = create_id2cat(rflow_annots)\n",
    "rflow_id2cat"
   ],
   "id": "392bf62d32f9eac8",
   "outputs": [
    {
     "data": {
      "text/plain": [
       "{0: 'Cattle',\n",
       " 1: 'BCS-1',\n",
       " 2: 'BCS-1.25',\n",
       " 3: 'BCS-1.5',\n",
       " 4: 'BCS-1.75',\n",
       " 5: 'BCS-2',\n",
       " 6: 'BCS-2.25',\n",
       " 7: 'BCS-2.5',\n",
       " 8: 'BCS-2.75',\n",
       " 9: 'BCS-3',\n",
       " 10: 'BCS-3.25',\n",
       " 11: 'BCS-3.5',\n",
       " 12: 'BCS-3.75',\n",
       " 13: 'BCS-4',\n",
       " 14: 'BCS-4.25',\n",
       " 15: 'BCS-4.5',\n",
       " 16: 'BCS-4.75',\n",
       " 17: 'Breed-Grade-A2',\n",
       " 18: 'Breed-Grade-A3',\n",
       " 19: 'Breed-Grade-B',\n",
       " 20: 'Breed-Grade-C',\n",
       " 21: 'Clefted-Deep',\n",
       " 22: 'Clefted-Moderate',\n",
       " 23: 'Clefted-Slightly',\n",
       " 24: 'Cow-Gir',\n",
       " 25: 'Cow-HF-Crossbreed',\n",
       " 26: 'Cow-Hallikar',\n",
       " 27: 'Cow-Jersey-Crossbreed',\n",
       " 28: 'Cow-Non-Descript-Breed',\n",
       " 29: 'Horn-Polled',\n",
       " 30: 'Horn-Present',\n",
       " 31: 'Pot-Belly-Present',\n",
       " 32: 'Skin-Coat-Moderately-Rough',\n",
       " 33: 'Skin-Coat-Rough',\n",
       " 34: 'Skin-Coat-Shiny',\n",
       " 35: 'Teat-Score-3',\n",
       " 36: 'Teat-Score-5',\n",
       " 37: 'Teat-Score-7',\n",
       " 38: 'Teat-Score-9',\n",
       " 39: 'Udder-Compact',\n",
       " 40: 'Udder-Moderately-Pendulous',\n",
       " 41: 'Udder-Pendulous',\n",
       " 42: 'Udder-Small-Tight',\n",
       " 43: 'Worm-Load-Moderate',\n",
       " 44: 'Worm-Load-No',\n",
       " 45: 'Wound-Dry',\n",
       " 46: 'Wound-No',\n",
       " 47: 'Wound-Ulcerated'}"
      ]
     },
     "execution_count": 11,
     "metadata": {},
     "output_type": "execute_result"
    }
   ],
   "execution_count": 11
  },
  {
   "metadata": {
    "ExecuteTime": {
     "end_time": "2024-07-22T11:31:33.156092Z",
     "start_time": "2024-07-22T11:31:33.153391Z"
    }
   },
   "cell_type": "code",
   "source": [
    "def create_id_2_imgname(annots) -> dict:\n",
    "    \"\"\"\n",
    "    Returns a python dictionary mapping image_ids to their corresponding image names.\n",
    "    Args:\n",
    "        annots(dict): Python dictionary containing annotation data of dataset.\n",
    "    \"\"\"\n",
    "    id2name = {}\n",
    "    \n",
    "    for image in annots['images']:\n",
    "        id2name[image['id']] = image['file_name']\n",
    "    return id2name"
   ],
   "id": "227b265d341d203a",
   "outputs": [],
   "execution_count": 12
  },
  {
   "metadata": {
    "ExecuteTime": {
     "end_time": "2024-07-22T11:31:33.747821Z",
     "start_time": "2024-07-22T11:31:33.744121Z"
    }
   },
   "cell_type": "code",
   "source": [
    "rflow_id2name = create_id_2_imgname(rflow_annots)\n",
    "len(rflow_id2name)"
   ],
   "id": "6c2807fe475b025d",
   "outputs": [
    {
     "data": {
      "text/plain": [
       "137"
      ]
     },
     "execution_count": 13,
     "metadata": {},
     "output_type": "execute_result"
    }
   ],
   "execution_count": 13
  },
  {
   "metadata": {
    "ExecuteTime": {
     "end_time": "2024-07-22T11:31:34.228892Z",
     "start_time": "2024-07-22T11:31:34.225234Z"
    }
   },
   "cell_type": "code",
   "source": [
    "def create_categorized_dset(og_img_dir, new_img_dir, data_by_cat, id2cat, id2name) -> None:\n",
    "    \"\"\"\n",
    "    Segregates categorized annotation data into folders, each with its corresponding images and json annotation file.\n",
    "    Args:\n",
    "        og_img_dir(str): Folder container original image data to be split into categories.\n",
    "        data_by_cat(dict): Python dictionary containing category-wise annotations for the dataset.\n",
    "        id2cat(dict): Python dictionary mapping category id to corresponding category name.\n",
    "        id2name(dict): Python dictionary mapping image_id to corresponding image name.\n",
    "        \n",
    "    Returns:\n",
    "        None\n",
    "    \"\"\"\n",
    "    for id, cat in id2cat.items():\n",
    "        cat_annots = {}\n",
    "        cat_dir = f\"{new_img_dir}/{cat}/\"\n",
    "        \n",
    "        if not os.path.exists(cat_dir):\n",
    "            os.makedirs(cat_dir)\n",
    "        \n",
    "        if id in data_by_cat:\n",
    "            for img_annot in data_by_cat[id]:\n",
    "                img_name = id2name[img_annot['image_id']]\n",
    "                og_img_path = os.path.join(og_img_dir, img_name)\n",
    "                new_img_path = os.path.join(cat_dir, img_name)\n",
    "                cat_annots[img_name] = img_annot\n",
    "                shutil.copy(og_img_path, new_img_path)\n",
    "        with open(os.path.join(cat_dir, f\"annotations.{cat}.json\"), 'w+') as f:\n",
    "            json.dump(cat_annots, f)"
   ],
   "id": "e47ca697a275a94b",
   "outputs": [],
   "execution_count": 14
  },
  {
   "metadata": {
    "ExecuteTime": {
     "end_time": "2024-07-22T11:31:34.791814Z",
     "start_time": "2024-07-22T11:31:34.702009Z"
    }
   },
   "cell_type": "code",
   "source": "create_categorized_dset(TRAIN_DIR, SORTED_DIR, data_by_cat, rflow_id2cat, rflow_id2name)",
   "id": "44e4ffad09664807",
   "outputs": [],
   "execution_count": 15
  },
  {
   "metadata": {
    "ExecuteTime": {
     "end_time": "2024-07-22T11:33:27.161336Z",
     "start_time": "2024-07-22T11:33:27.157614Z"
    }
   },
   "cell_type": "code",
   "source": [
    "def get_dir_filecount(directory):\n",
    "    \"\"\"\n",
    "    Prints the count of files present in each subdirectory of a given main directory.\n",
    "    Args:\n",
    "        directory(str): Path to directory containing files to be counted.\n",
    "\n",
    "    Returns:\n",
    "        None\n",
    "    \"\"\"\n",
    "    for subdir in os.listdir(directory):\n",
    "        subdir_path = os.path.join(directory, subdir)\n",
    "        print(f\"Sub-Dir: {subdir} | No. of files: {len(os.listdir(subdir_path))}\")\n",
    "get_dir_filecount(\"data/RF_sorted/\")"
   ],
   "id": "82d723eae1b34ece",
   "outputs": [
    {
     "name": "stdout",
     "output_type": "stream",
     "text": [
      "Sub-Dir: Breed-Grade-A3 | No. of files: 39\n",
      "Sub-Dir: Teat-Score-5 | No. of files: 55\n",
      "Sub-Dir: BCS-1.25 | No. of files: 3\n",
      "Sub-Dir: Breed-Grade-B | No. of files: 38\n",
      "Sub-Dir: Skin-Coat-Shiny | No. of files: 36\n",
      "Sub-Dir: Cattle | No. of files: 1\n",
      "Sub-Dir: Skin-Coat-Moderately-Rough | No. of files: 54\n",
      "Sub-Dir: Breed-Grade-C | No. of files: 18\n",
      "Sub-Dir: Breed-Grade-A2 | No. of files: 11\n",
      "Sub-Dir: Horn-Present | No. of files: 91\n",
      "Sub-Dir: Teat-Score-7 | No. of files: 55\n",
      "Sub-Dir: Cow-Hallikar | No. of files: 7\n",
      "Sub-Dir: BCS-1 | No. of files: 2\n",
      "Sub-Dir: Worm-Load-No | No. of files: 24\n",
      "Sub-Dir: BCS-4.75 | No. of files: 3\n",
      "Sub-Dir: BCS-4 | No. of files: 10\n",
      "Sub-Dir: BCS-1.5 | No. of files: 9\n",
      "Sub-Dir: Udder-Pendulous | No. of files: 4\n",
      "Sub-Dir: Udder-Small-Tight | No. of files: 8\n",
      "Sub-Dir: BCS-2.75 | No. of files: 4\n",
      "Sub-Dir: Cow-HF-Crossbreed | No. of files: 70\n",
      "Sub-Dir: Udder-Moderately-Pendulous | No. of files: 25\n",
      "Sub-Dir: BCS-4.25 | No. of files: 7\n",
      "Sub-Dir: Skin-Coat-Rough | No. of files: 15\n",
      "Sub-Dir: Wound-Dry | No. of files: 66\n",
      "Sub-Dir: BCS-2 | No. of files: 16\n",
      "Sub-Dir: Clefted-Moderate | No. of files: 80\n",
      "Sub-Dir: BCS-4.5 | No. of files: 3\n",
      "Sub-Dir: Teat-Score-3 | No. of files: 6\n",
      "Sub-Dir: Cow-Jersey-Crossbreed | No. of files: 19\n",
      "Sub-Dir: Cow-Non-Descript-Breed | No. of files: 11\n",
      "Sub-Dir: BCS-2.5 | No. of files: 9\n",
      "Sub-Dir: Clefted-Deep | No. of files: 11\n",
      "Sub-Dir: Cow-Gir | No. of files: 4\n",
      "Sub-Dir: Wound-No | No. of files: 21\n",
      "Sub-Dir: Horn-Polled | No. of files: 15\n",
      "Sub-Dir: Udder-Compact | No. of files: 72\n",
      "Sub-Dir: BCS-1.75 | No. of files: 9\n",
      "Sub-Dir: BCS-3 | No. of files: 8\n",
      "Sub-Dir: Pot-Belly-Present | No. of files: 26\n",
      "Sub-Dir: BCS-3.75 | No. of files: 5\n",
      "Sub-Dir: BCS-2.25 | No. of files: 16\n",
      "Sub-Dir: Wound-Ulcerated | No. of files: 11\n",
      "Sub-Dir: BCS-3.25 | No. of files: 8\n",
      "Sub-Dir: Teat-Score-9 | No. of files: 6\n",
      "Sub-Dir: BCS-3.5 | No. of files: 5\n",
      "Sub-Dir: Worm-Load-Moderate | No. of files: 57\n",
      "Sub-Dir: Clefted-Slightly | No. of files: 28\n"
     ]
    }
   ],
   "execution_count": 17
  },
  {
   "metadata": {},
   "cell_type": "code",
   "outputs": [],
   "execution_count": null,
   "source": "",
   "id": "3f44178eed3bb900"
  }
 ],
 "metadata": {
  "kernelspec": {
   "display_name": "Python 3",
   "language": "python",
   "name": "python3"
  },
  "language_info": {
   "codemirror_mode": {
    "name": "ipython",
    "version": 2
   },
   "file_extension": ".py",
   "mimetype": "text/x-python",
   "name": "python",
   "nbconvert_exporter": "python",
   "pygments_lexer": "ipython2",
   "version": "2.7.6"
  }
 },
 "nbformat": 4,
 "nbformat_minor": 5
}
