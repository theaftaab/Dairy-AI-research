{
 "cells": [
  {
   "cell_type": "code",
   "id": "initial_id",
   "metadata": {
    "collapsed": true,
    "ExecuteTime": {
     "end_time": "2024-07-20T08:32:56.603503Z",
     "start_time": "2024-07-20T08:32:56.601692Z"
    }
   },
   "source": [
    "import os\n",
    "import json\n",
    "import shutil"
   ],
   "outputs": [],
   "execution_count": 21
  },
  {
   "metadata": {
    "ExecuteTime": {
     "end_time": "2024-07-20T09:46:26.913301Z",
     "start_time": "2024-07-20T09:46:26.908859Z"
    }
   },
   "cell_type": "code",
   "source": [
    "SOURCE_DATA_DIR = \"data/RF_sorted_data\"\n",
    "\n",
    "BCS_OUT_DIR = 'data/RF_sorted_data/BCS'\n",
    "BCS_YOLO_DIR = 'data/YOLOv8/BCS'\n",
    "\n",
    "UTYPE_OUT_DIR = 'data/RF_sorted_data/UdderType'\n",
    "UTYPE_YOLO_DIR = 'data/YOLOv8/UdderType'\n",
    "\n",
    "CLEFT_OUT_DIR = 'data/RF_sorted_data/Cleft'\n",
    "CLEFT_YOLO_DIR = 'data/YOLOv8/Cleft'\n",
    "\n",
    "TSCORE_OUT_DIR = 'data/RF_sorted_data/TScore'\n",
    "TSCORE_YOLO_DIR = 'data/YOLOv8/TScore'\n",
    "\n",
    "BREED_OUT_DIR = 'data/RF_sorted_data/CowBreed'\n",
    "BREED_YOLO_DIR = 'data/YOLOv8/CowBreed'"
   ],
   "id": "93909427aac513df",
   "outputs": [],
   "execution_count": 112
  },
  {
   "metadata": {
    "ExecuteTime": {
     "end_time": "2024-07-20T08:32:56.609332Z",
     "start_time": "2024-07-20T08:32:56.607528Z"
    }
   },
   "cell_type": "code",
   "source": [
    "def convert_coco_to_yolov8(bbox, img_width, img_height):\n",
    "    x_min, y_min, bbox_width, bbox_height = bbox\n",
    "    x_center = (x_min + bbox_width / 2) / img_width\n",
    "    y_center = (y_min + bbox_height / 2) / img_height\n",
    "    width = bbox_width / img_width\n",
    "    height = bbox_height / img_height\n",
    "    return x_center, y_center, width, height"
   ],
   "id": "2265ee9273f98041",
   "outputs": [],
   "execution_count": 23
  },
  {
   "metadata": {
    "ExecuteTime": {
     "end_time": "2024-07-20T09:05:24.006351Z",
     "start_time": "2024-07-20T09:05:24.002690Z"
    }
   },
   "cell_type": "code",
   "source": [
    "def aggregate_class_folders(source_dir, target_dir, main_class):\n",
    "    if not os.path.exists(target_dir):\n",
    "        os.makedirs(target_dir, exist_ok=True)\n",
    "    for subdir in os.listdir(source_dir):\n",
    "        if subdir.startswith(main_class) or subdir.endswith(main_class):\n",
    "            shutil.copytree(os.path.join(source_dir, subdir), os.path.join(target_dir, subdir))\n",
    "            print(f'Copied {subdir} to {target_dir}')"
   ],
   "id": "50205a10ae52aafd",
   "outputs": [],
   "execution_count": 55
  },
  {
   "metadata": {
    "ExecuteTime": {
     "end_time": "2024-07-20T10:24:05.242436Z",
     "start_time": "2024-07-20T10:24:05.237424Z"
    }
   },
   "cell_type": "code",
   "source": [
    "def reformat_coco_annots(source_dir, output_dir):\n",
    "    if not os.path.exists(output_dir):\n",
    "        os.makedirs(output_dir, exist_ok=True)\n",
    "\n",
    "    img_dir = os.path.join(output_dir, 'train/images')\n",
    "    labels_dir = os.path.join(output_dir, 'train/labels')\n",
    "\n",
    "    if not os.path.exists(labels_dir):\n",
    "        os.makedirs(labels_dir, exist_ok=True)\n",
    "    if not os.path.exists(img_dir):\n",
    "        os.makedirs(img_dir, exist_ok=True)\n",
    "\n",
    "    img_width, img_height = 640, 640\n",
    "\n",
    "    for cat_id, cat_dir in enumerate(os.listdir(source_dir)):\n",
    "        cat_path = os.path.join(source_dir, cat_dir)\n",
    "        if os.path.isdir(cat_path):\n",
    "            annotation_file = [f for f in os.listdir(cat_path) if f.endswith('.json')][0]\n",
    "            annotation_path = os.path.join(cat_path, annotation_file)\n",
    "\n",
    "            with open(annotation_path, 'r') as f:\n",
    "                annotations = json.load(f)\n",
    "\n",
    "            for img_file, annots in annotations.items():\n",
    "                src_img_path = os.path.join(cat_path, img_file)\n",
    "                trgt_img_path = os.path.join(img_dir, img_file)\n",
    "\n",
    "                shutil.copy(src_img_path, trgt_img_path)\n",
    "                # print(img_file, annots)\n",
    "                bbox = annots['bbox']\n",
    "                x_center, y_center, width, height = convert_coco_to_yolov8(bbox, img_width, img_height)\n",
    "\n",
    "                yolo_annotation = f\"{cat_id} {x_center} {y_center} {width} {height}\"\n",
    "                label_file_name = img_file.replace('.jpg', '.txt')\n",
    "                label_file_path = os.path.join(labels_dir, label_file_name)\n",
    "                # print(yolo_annotation, label_file_path)\n",
    "                with open(label_file_path, 'w') as label_file:\n",
    "                    label_file.write(yolo_annotation + \"\\n\")\n",
    "        print(f\"Successfully converted {cat_dir} to yolov8 annotation format.\")\n",
    "    print(f\"Finished conversion of {source_dir} to yolov8 annotation format.\")"
   ],
   "id": "4adcfcc53613979d",
   "outputs": [],
   "execution_count": 118
  },
  {
   "metadata": {
    "ExecuteTime": {
     "end_time": "2024-07-20T10:24:06.765865Z",
     "start_time": "2024-07-20T10:24:06.762214Z"
    }
   },
   "cell_type": "code",
   "source": [
    "def compare_file_counts(src_dir, agg_dir, yolo_dir, main_class) -> None:\n",
    "    init_cnt, post_cnt, yolo_cnt = 0, 0, 0\n",
    "    for src_subdir in os.listdir(src_dir):\n",
    "        if src_subdir.startswith(main_class) or src_subdir.endswith(main_class):\n",
    "            subdir_path = os.path.join(src_dir, src_subdir)\n",
    "            for file in os.listdir(subdir_path):\n",
    "                if file.endswith(\".jpg\"):\n",
    "                    init_cnt += 1\n",
    "    for agg_subdir in os.listdir(agg_dir):\n",
    "        if agg_subdir.startswith(main_class) or agg_subdir.endswith(main_class):\n",
    "            subdir_path = os.path.join(agg_dir, agg_subdir)\n",
    "            for file in os.listdir(subdir_path):\n",
    "                if file.endswith(\".jpg\"):\n",
    "                    post_cnt += 1\n",
    "                    \n",
    "    for yolo_file in os.listdir(yolo_dir + \"/train/images/\"):\n",
    "        if yolo_file.endswith(\".jpg\"):\n",
    "            yolo_cnt += 1\n",
    "            \n",
    "    print(f\"Pre-aggregation: {init_cnt}, Post-aggregation: {post_cnt}, Post-conversion: {yolo_cnt}\")"
   ],
   "id": "392fee3941db06c0",
   "outputs": [],
   "execution_count": 119
  },
  {
   "metadata": {},
   "cell_type": "markdown",
   "source": "# Conversion of BCS data",
   "id": "3af426f78c1a7f75"
  },
  {
   "metadata": {
    "ExecuteTime": {
     "end_time": "2024-07-20T10:28:01.772907Z",
     "start_time": "2024-07-20T10:28:01.752915Z"
    }
   },
   "cell_type": "code",
   "source": "aggregate_class_folders(SOURCE_DATA_DIR, BCS_OUT_DIR, main_class='BCS-')",
   "id": "f6546add38556af7",
   "outputs": [
    {
     "name": "stdout",
     "output_type": "stream",
     "text": [
      "Copied BCS-1.25 to data/RF_sorted_data/BCS\n",
      "Copied BCS-1 to data/RF_sorted_data/BCS\n",
      "Copied BCS-4.75 to data/RF_sorted_data/BCS\n",
      "Copied BCS-4 to data/RF_sorted_data/BCS\n",
      "Copied BCS-1.5 to data/RF_sorted_data/BCS\n",
      "Copied BCS-2.75 to data/RF_sorted_data/BCS\n",
      "Copied BCS-4.25 to data/RF_sorted_data/BCS\n",
      "Copied BCS-2 to data/RF_sorted_data/BCS\n",
      "Copied BCS-4.5 to data/RF_sorted_data/BCS\n",
      "Copied BCS-2.5 to data/RF_sorted_data/BCS\n",
      "Copied BCS-1.75 to data/RF_sorted_data/BCS\n",
      "Copied BCS-3 to data/RF_sorted_data/BCS\n",
      "Copied BCS-3.75 to data/RF_sorted_data/BCS\n",
      "Copied BCS-2.25 to data/RF_sorted_data/BCS\n",
      "Copied BCS-3.25 to data/RF_sorted_data/BCS\n",
      "Copied BCS-3.5 to data/RF_sorted_data/BCS\n"
     ]
    }
   ],
   "execution_count": 122
  },
  {
   "metadata": {
    "ExecuteTime": {
     "end_time": "2024-07-20T10:28:02.585422Z",
     "start_time": "2024-07-20T10:28:02.565766Z"
    }
   },
   "cell_type": "code",
   "source": "reformat_coco_annots(BCS_OUT_DIR, BCS_YOLO_DIR)",
   "id": "cdc28419d31efdfb",
   "outputs": [
    {
     "name": "stdout",
     "output_type": "stream",
     "text": [
      "Successfully converted BCS-1.25 to yolov8 annotation format.\n",
      "Successfully converted BCS-1 to yolov8 annotation format.\n",
      "Successfully converted BCS-4.75 to yolov8 annotation format.\n",
      "Successfully converted BCS-4 to yolov8 annotation format.\n",
      "Successfully converted BCS-1.5 to yolov8 annotation format.\n",
      "Successfully converted BCS-2.75 to yolov8 annotation format.\n",
      "Successfully converted BCS-4.25 to yolov8 annotation format.\n",
      "Successfully converted BCS-2 to yolov8 annotation format.\n",
      "Successfully converted BCS-4.5 to yolov8 annotation format.\n",
      "Successfully converted BCS-2.5 to yolov8 annotation format.\n",
      "Successfully converted BCS-1.75 to yolov8 annotation format.\n",
      "Successfully converted BCS-3 to yolov8 annotation format.\n",
      "Successfully converted BCS-3.75 to yolov8 annotation format.\n",
      "Successfully converted BCS-2.25 to yolov8 annotation format.\n",
      "Successfully converted BCS-3.25 to yolov8 annotation format.\n",
      "Successfully converted BCS-3.5 to yolov8 annotation format.\n",
      "Finished conversion of data/RF_sorted_data/BCS to yolov8 annotation format.\n"
     ]
    }
   ],
   "execution_count": 123
  },
  {
   "metadata": {
    "ExecuteTime": {
     "end_time": "2024-07-20T10:28:03.853232Z",
     "start_time": "2024-07-20T10:28:03.849730Z"
    }
   },
   "cell_type": "code",
   "source": "compare_file_counts(SOURCE_DATA_DIR, BCS_OUT_DIR, BCS_YOLO_DIR, main_class='BCS-')",
   "id": "bba12d834cb898c5",
   "outputs": [
    {
     "name": "stdout",
     "output_type": "stream",
     "text": [
      "Pre-aggregation: 100, Post-aggregation: 100, Post-conversion: 100\n"
     ]
    }
   ],
   "execution_count": 124
  },
  {
   "metadata": {},
   "cell_type": "markdown",
   "source": "# Conversion of Type of Udder data",
   "id": "a22e6c23dad4e63d"
  },
  {
   "metadata": {
    "ExecuteTime": {
     "end_time": "2024-07-20T10:28:05.928772Z",
     "start_time": "2024-07-20T10:28:05.906645Z"
    }
   },
   "cell_type": "code",
   "source": "aggregate_class_folders(SOURCE_DATA_DIR, UTYPE_OUT_DIR, main_class='-Udder')",
   "id": "fa59d6d79c66e564",
   "outputs": [
    {
     "name": "stdout",
     "output_type": "stream",
     "text": [
      "Copied Moderately-Pendulous-Udder to data/RF_sorted_data/UdderType\n",
      "Copied Compact-Udder to data/RF_sorted_data/UdderType\n",
      "Copied Pendulous-Udder to data/RF_sorted_data/UdderType\n",
      "Copied Small-Tight-Udder to data/RF_sorted_data/UdderType\n"
     ]
    }
   ],
   "execution_count": 125
  },
  {
   "metadata": {
    "ExecuteTime": {
     "end_time": "2024-07-20T10:28:06.882670Z",
     "start_time": "2024-07-20T10:28:06.868937Z"
    }
   },
   "cell_type": "code",
   "source": "reformat_coco_annots(UTYPE_OUT_DIR, UTYPE_YOLO_DIR)",
   "id": "4edc778e25fbcf29",
   "outputs": [
    {
     "name": "stdout",
     "output_type": "stream",
     "text": [
      "Successfully converted Moderately-Pendulous-Udder to yolov8 annotation format.\n",
      "Successfully converted Compact-Udder to yolov8 annotation format.\n",
      "Successfully converted Pendulous-Udder to yolov8 annotation format.\n",
      "Successfully converted Small-Tight-Udder to yolov8 annotation format.\n",
      "Finished conversion of data/RF_sorted_data/UdderType to yolov8 annotation format.\n"
     ]
    }
   ],
   "execution_count": 126
  },
  {
   "metadata": {
    "ExecuteTime": {
     "end_time": "2024-07-20T10:28:07.417777Z",
     "start_time": "2024-07-20T10:28:07.414442Z"
    }
   },
   "cell_type": "code",
   "source": "compare_file_counts(SOURCE_DATA_DIR, UTYPE_OUT_DIR, UTYPE_YOLO_DIR, main_class='-Udder')",
   "id": "293bdfe2f5f53352",
   "outputs": [
    {
     "name": "stdout",
     "output_type": "stream",
     "text": [
      "Pre-aggregation: 84, Post-aggregation: 84, Post-conversion: 84\n"
     ]
    }
   ],
   "execution_count": 127
  },
  {
   "metadata": {},
   "cell_type": "markdown",
   "source": "# Conversion of Cleft data",
   "id": "a57880b0a883cb90"
  },
  {
   "metadata": {
    "ExecuteTime": {
     "end_time": "2024-07-20T10:28:08.492570Z",
     "start_time": "2024-07-20T10:28:08.472426Z"
    }
   },
   "cell_type": "code",
   "source": "aggregate_class_folders(SOURCE_DATA_DIR, CLEFT_OUT_DIR, main_class='Clefted')",
   "id": "d14201441602f166",
   "outputs": [
    {
     "name": "stdout",
     "output_type": "stream",
     "text": [
      "Copied Moderately-Clefted to data/RF_sorted_data/Cleft\n",
      "Copied Slightly-Clefted to data/RF_sorted_data/Cleft\n",
      "Copied Deep-Clefted to data/RF_sorted_data/Cleft\n"
     ]
    }
   ],
   "execution_count": 128
  },
  {
   "metadata": {
    "ExecuteTime": {
     "end_time": "2024-07-20T10:28:08.949508Z",
     "start_time": "2024-07-20T10:28:08.932593Z"
    }
   },
   "cell_type": "code",
   "source": "reformat_coco_annots(CLEFT_OUT_DIR, CLEFT_YOLO_DIR)",
   "id": "ff2607983bfb4c11",
   "outputs": [
    {
     "name": "stdout",
     "output_type": "stream",
     "text": [
      "Successfully converted Moderately-Clefted to yolov8 annotation format.\n",
      "Successfully converted Slightly-Clefted to yolov8 annotation format.\n",
      "Successfully converted Deep-Clefted to yolov8 annotation format.\n",
      "Finished conversion of data/RF_sorted_data/Cleft to yolov8 annotation format.\n"
     ]
    }
   ],
   "execution_count": 129
  },
  {
   "metadata": {
    "ExecuteTime": {
     "end_time": "2024-07-20T10:28:09.414934Z",
     "start_time": "2024-07-20T10:28:09.408376Z"
    }
   },
   "cell_type": "code",
   "source": "compare_file_counts(SOURCE_DATA_DIR, CLEFT_OUT_DIR, CLEFT_YOLO_DIR, main_class=\"Clefted\")",
   "id": "5676d4c1b7034bf",
   "outputs": [
    {
     "name": "stdout",
     "output_type": "stream",
     "text": [
      "Pre-aggregation: 115, Post-aggregation: 115, Post-conversion: 115\n"
     ]
    }
   ],
   "execution_count": 130
  },
  {
   "metadata": {},
   "cell_type": "markdown",
   "source": "# Conversion of Teat Score data",
   "id": "775733561593f537"
  },
  {
   "metadata": {
    "ExecuteTime": {
     "end_time": "2024-07-20T10:28:10.397249Z",
     "start_time": "2024-07-20T10:28:10.382182Z"
    }
   },
   "cell_type": "code",
   "source": "aggregate_class_folders(SOURCE_DATA_DIR, TSCORE_OUT_DIR, main_class=\"Teat-Score\")",
   "id": "bbb2e812fbd7a190",
   "outputs": [
    {
     "name": "stdout",
     "output_type": "stream",
     "text": [
      "Copied Teat-Score-5 to data/RF_sorted_data/TScore\n",
      "Copied Teat-Score-7 to data/RF_sorted_data/TScore\n",
      "Copied Teat-Score-3 to data/RF_sorted_data/TScore\n",
      "Copied Teat-Score-9 to data/RF_sorted_data/TScore\n"
     ]
    }
   ],
   "execution_count": 131
  },
  {
   "metadata": {
    "ExecuteTime": {
     "end_time": "2024-07-20T10:28:10.881199Z",
     "start_time": "2024-07-20T10:28:10.864731Z"
    }
   },
   "cell_type": "code",
   "source": "reformat_coco_annots(TSCORE_OUT_DIR, TSCORE_YOLO_DIR)",
   "id": "cdb133958d573a0",
   "outputs": [
    {
     "name": "stdout",
     "output_type": "stream",
     "text": [
      "Successfully converted Teat-Score-5 to yolov8 annotation format.\n",
      "Successfully converted Teat-Score-7 to yolov8 annotation format.\n",
      "Successfully converted Teat-Score-3 to yolov8 annotation format.\n",
      "Successfully converted Teat-Score-9 to yolov8 annotation format.\n",
      "Finished conversion of data/RF_sorted_data/TScore to yolov8 annotation format.\n"
     ]
    }
   ],
   "execution_count": 132
  },
  {
   "metadata": {
    "ExecuteTime": {
     "end_time": "2024-07-20T10:28:11.452974Z",
     "start_time": "2024-07-20T10:28:11.449802Z"
    }
   },
   "cell_type": "code",
   "source": "compare_file_counts(SOURCE_DATA_DIR, TSCORE_OUT_DIR, TSCORE_YOLO_DIR, main_class=\"Teat-Score\")",
   "id": "6ce4e7edf49eedb4",
   "outputs": [
    {
     "name": "stdout",
     "output_type": "stream",
     "text": [
      "Pre-aggregation: 117, Post-aggregation: 117, Post-conversion: 117\n"
     ]
    }
   ],
   "execution_count": 133
  },
  {
   "metadata": {},
   "cell_type": "markdown",
   "source": "# Conversion of Cow Breed data",
   "id": "a80b7edeb95d0a65"
  },
  {
   "metadata": {
    "ExecuteTime": {
     "end_time": "2024-07-20T10:28:12.836174Z",
     "start_time": "2024-07-20T10:28:12.818351Z"
    }
   },
   "cell_type": "code",
   "source": "aggregate_class_folders(SOURCE_DATA_DIR, BREED_OUT_DIR, main_class='-Cow')",
   "id": "5b8d91d59fdb1795",
   "outputs": [
    {
     "name": "stdout",
     "output_type": "stream",
     "text": [
      "Copied Hallikar-Cow to data/RF_sorted_data/CowBreed\n",
      "Copied HF-Crossbreed-Cow to data/RF_sorted_data/CowBreed\n",
      "Copied Non-Descript-Breed-Cow to data/RF_sorted_data/CowBreed\n",
      "Copied Jersey-Crossbreed-Cow to data/RF_sorted_data/CowBreed\n",
      "Copied Gir-Cow to data/RF_sorted_data/CowBreed\n"
     ]
    }
   ],
   "execution_count": 134
  },
  {
   "metadata": {
    "ExecuteTime": {
     "end_time": "2024-07-20T10:28:13.398030Z",
     "start_time": "2024-07-20T10:28:13.378119Z"
    }
   },
   "cell_type": "code",
   "source": "reformat_coco_annots(BREED_OUT_DIR, BREED_YOLO_DIR)",
   "id": "7543c160ab56e4d6",
   "outputs": [
    {
     "name": "stdout",
     "output_type": "stream",
     "text": [
      "Successfully converted Hallikar-Cow to yolov8 annotation format.\n",
      "Successfully converted HF-Crossbreed-Cow to yolov8 annotation format.\n",
      "Successfully converted Non-Descript-Breed-Cow to yolov8 annotation format.\n",
      "Successfully converted Jersey-Crossbreed-Cow to yolov8 annotation format.\n",
      "Successfully converted Gir-Cow to yolov8 annotation format.\n",
      "Finished conversion of data/RF_sorted_data/CowBreed to yolov8 annotation format.\n"
     ]
    }
   ],
   "execution_count": 135
  },
  {
   "metadata": {
    "ExecuteTime": {
     "end_time": "2024-07-20T10:28:14.238391Z",
     "start_time": "2024-07-20T10:28:14.235508Z"
    }
   },
   "cell_type": "code",
   "source": "compare_file_counts(SOURCE_DATA_DIR, BREED_OUT_DIR, BREED_YOLO_DIR, main_class='Cow')",
   "id": "f454371cff2315ba",
   "outputs": [
    {
     "name": "stdout",
     "output_type": "stream",
     "text": [
      "Pre-aggregation: 105, Post-aggregation: 105, Post-conversion: 105\n"
     ]
    }
   ],
   "execution_count": 136
  }
 ],
 "metadata": {
  "kernelspec": {
   "display_name": "Python 3",
   "language": "python",
   "name": "python3"
  },
  "language_info": {
   "codemirror_mode": {
    "name": "ipython",
    "version": 2
   },
   "file_extension": ".py",
   "mimetype": "text/x-python",
   "name": "python",
   "nbconvert_exporter": "python",
   "pygments_lexer": "ipython2",
   "version": "2.7.6"
  }
 },
 "nbformat": 4,
 "nbformat_minor": 5
}
